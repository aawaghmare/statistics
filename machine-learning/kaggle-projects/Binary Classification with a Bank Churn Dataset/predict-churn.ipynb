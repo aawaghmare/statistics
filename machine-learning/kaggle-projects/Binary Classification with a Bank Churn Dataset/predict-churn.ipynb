{
 "cells": [
  {
   "cell_type": "code",
   "execution_count": 1,
   "id": "cb7c77f8",
   "metadata": {
    "_cell_guid": "b1076dfc-b9ad-4769-8c92-a6c4dae69d19",
    "_uuid": "8f2839f25d086af736a60e9eeb907d3b93b6e0e5",
    "execution": {
     "iopub.execute_input": "2024-01-30T23:03:30.556652Z",
     "iopub.status.busy": "2024-01-30T23:03:30.555539Z",
     "iopub.status.idle": "2024-01-30T23:03:31.476715Z",
     "shell.execute_reply": "2024-01-30T23:03:31.475637Z"
    },
    "papermill": {
     "duration": 0.94623,
     "end_time": "2024-01-30T23:03:31.479649",
     "exception": false,
     "start_time": "2024-01-30T23:03:30.533419",
     "status": "completed"
    },
    "tags": []
   },
   "outputs": [
    {
     "name": "stdout",
     "output_type": "stream",
     "text": [
      "/kaggle/input/playground-series-s4e1/sample_submission.csv\n",
      "/kaggle/input/playground-series-s4e1/train.csv\n",
      "/kaggle/input/playground-series-s4e1/test.csv\n"
     ]
    }
   ],
   "source": [
    "# This Python 3 environment comes with many helpful analytics libraries installed\n",
    "# It is defined by the kaggle/python Docker image: https://github.com/kaggle/docker-python\n",
    "# For example, here's several helpful packages to load\n",
    "\n",
    "import numpy as np # linear algebra\n",
    "import pandas as pd # data processing, CSV file I/O (e.g. pd.read_csv)\n",
    "\n",
    "# Input data files are available in the read-only \"../input/\" directory\n",
    "# For example, running this (by clicking run or pressing Shift+Enter) will list all files under the input directory\n",
    "\n",
    "import os\n",
    "for dirname, _, filenames in os.walk('/kaggle/input'):\n",
    "    for filename in filenames:\n",
    "        print(os.path.join(dirname, filename))\n",
    "\n",
    "# You can write up to 20GB to the current directory (/kaggle/working/) that gets preserved as output when you create a version using \"Save & Run All\" \n",
    "# You can also write temporary files to /kaggle/temp/, but they won't be saved outside of the current session"
   ]
  },
  {
   "cell_type": "code",
   "execution_count": 2,
   "id": "e9d8d683",
   "metadata": {
    "execution": {
     "iopub.execute_input": "2024-01-30T23:03:31.523258Z",
     "iopub.status.busy": "2024-01-30T23:03:31.521719Z",
     "iopub.status.idle": "2024-01-30T23:03:33.201093Z",
     "shell.execute_reply": "2024-01-30T23:03:33.199721Z"
    },
    "papermill": {
     "duration": 1.704387,
     "end_time": "2024-01-30T23:03:33.204591",
     "exception": false,
     "start_time": "2024-01-30T23:03:31.500204",
     "status": "completed"
    },
    "tags": []
   },
   "outputs": [],
   "source": [
    "\n",
    "import numpy as np\n",
    "import pandas as pd\n",
    "import matplotlib.pyplot as plt\n",
    "\n",
    "from sklearn.model_selection import train_test_split\n",
    "from sklearn.tree import DecisionTreeClassifier\n",
    "\n",
    "# This function displays the splits of the tree\n",
    "from sklearn.tree import plot_tree\n",
    "\n",
    "from sklearn.metrics import ConfusionMatrixDisplay, confusion_matrix\n",
    "from sklearn.metrics import recall_score, precision_score, f1_score, accuracy_score"
   ]
  },
  {
   "cell_type": "code",
   "execution_count": 3,
   "id": "12416998",
   "metadata": {
    "execution": {
     "iopub.execute_input": "2024-01-30T23:03:33.250181Z",
     "iopub.status.busy": "2024-01-30T23:03:33.249116Z",
     "iopub.status.idle": "2024-01-30T23:03:33.905527Z",
     "shell.execute_reply": "2024-01-30T23:03:33.904583Z"
    },
    "papermill": {
     "duration": 0.682554,
     "end_time": "2024-01-30T23:03:33.908204",
     "exception": false,
     "start_time": "2024-01-30T23:03:33.225650",
     "status": "completed"
    },
    "tags": []
   },
   "outputs": [
    {
     "data": {
      "text/html": [
       "<div>\n",
       "<style scoped>\n",
       "    .dataframe tbody tr th:only-of-type {\n",
       "        vertical-align: middle;\n",
       "    }\n",
       "\n",
       "    .dataframe tbody tr th {\n",
       "        vertical-align: top;\n",
       "    }\n",
       "\n",
       "    .dataframe thead th {\n",
       "        text-align: right;\n",
       "    }\n",
       "</style>\n",
       "<table border=\"1\" class=\"dataframe\">\n",
       "  <thead>\n",
       "    <tr style=\"text-align: right;\">\n",
       "      <th></th>\n",
       "      <th>id</th>\n",
       "      <th>CustomerId</th>\n",
       "      <th>Surname</th>\n",
       "      <th>CreditScore</th>\n",
       "      <th>Geography</th>\n",
       "      <th>Gender</th>\n",
       "      <th>Age</th>\n",
       "      <th>Tenure</th>\n",
       "      <th>Balance</th>\n",
       "      <th>NumOfProducts</th>\n",
       "      <th>HasCrCard</th>\n",
       "      <th>IsActiveMember</th>\n",
       "      <th>EstimatedSalary</th>\n",
       "      <th>Exited</th>\n",
       "    </tr>\n",
       "  </thead>\n",
       "  <tbody>\n",
       "    <tr>\n",
       "      <th>0</th>\n",
       "      <td>0</td>\n",
       "      <td>15674932</td>\n",
       "      <td>Okwudilichukwu</td>\n",
       "      <td>668</td>\n",
       "      <td>France</td>\n",
       "      <td>Male</td>\n",
       "      <td>33.0</td>\n",
       "      <td>3</td>\n",
       "      <td>0.00</td>\n",
       "      <td>2</td>\n",
       "      <td>1.0</td>\n",
       "      <td>0.0</td>\n",
       "      <td>181449.97</td>\n",
       "      <td>0</td>\n",
       "    </tr>\n",
       "    <tr>\n",
       "      <th>1</th>\n",
       "      <td>1</td>\n",
       "      <td>15749177</td>\n",
       "      <td>Okwudiliolisa</td>\n",
       "      <td>627</td>\n",
       "      <td>France</td>\n",
       "      <td>Male</td>\n",
       "      <td>33.0</td>\n",
       "      <td>1</td>\n",
       "      <td>0.00</td>\n",
       "      <td>2</td>\n",
       "      <td>1.0</td>\n",
       "      <td>1.0</td>\n",
       "      <td>49503.50</td>\n",
       "      <td>0</td>\n",
       "    </tr>\n",
       "    <tr>\n",
       "      <th>2</th>\n",
       "      <td>2</td>\n",
       "      <td>15694510</td>\n",
       "      <td>Hsueh</td>\n",
       "      <td>678</td>\n",
       "      <td>France</td>\n",
       "      <td>Male</td>\n",
       "      <td>40.0</td>\n",
       "      <td>10</td>\n",
       "      <td>0.00</td>\n",
       "      <td>2</td>\n",
       "      <td>1.0</td>\n",
       "      <td>0.0</td>\n",
       "      <td>184866.69</td>\n",
       "      <td>0</td>\n",
       "    </tr>\n",
       "    <tr>\n",
       "      <th>3</th>\n",
       "      <td>3</td>\n",
       "      <td>15741417</td>\n",
       "      <td>Kao</td>\n",
       "      <td>581</td>\n",
       "      <td>France</td>\n",
       "      <td>Male</td>\n",
       "      <td>34.0</td>\n",
       "      <td>2</td>\n",
       "      <td>148882.54</td>\n",
       "      <td>1</td>\n",
       "      <td>1.0</td>\n",
       "      <td>1.0</td>\n",
       "      <td>84560.88</td>\n",
       "      <td>0</td>\n",
       "    </tr>\n",
       "    <tr>\n",
       "      <th>4</th>\n",
       "      <td>4</td>\n",
       "      <td>15766172</td>\n",
       "      <td>Chiemenam</td>\n",
       "      <td>716</td>\n",
       "      <td>Spain</td>\n",
       "      <td>Male</td>\n",
       "      <td>33.0</td>\n",
       "      <td>5</td>\n",
       "      <td>0.00</td>\n",
       "      <td>2</td>\n",
       "      <td>1.0</td>\n",
       "      <td>1.0</td>\n",
       "      <td>15068.83</td>\n",
       "      <td>0</td>\n",
       "    </tr>\n",
       "  </tbody>\n",
       "</table>\n",
       "</div>"
      ],
      "text/plain": [
       "   id  CustomerId         Surname  CreditScore Geography Gender   Age  Tenure  \\\n",
       "0   0    15674932  Okwudilichukwu          668    France   Male  33.0       3   \n",
       "1   1    15749177   Okwudiliolisa          627    France   Male  33.0       1   \n",
       "2   2    15694510           Hsueh          678    France   Male  40.0      10   \n",
       "3   3    15741417             Kao          581    France   Male  34.0       2   \n",
       "4   4    15766172       Chiemenam          716     Spain   Male  33.0       5   \n",
       "\n",
       "     Balance  NumOfProducts  HasCrCard  IsActiveMember  EstimatedSalary  \\\n",
       "0       0.00              2        1.0             0.0        181449.97   \n",
       "1       0.00              2        1.0             1.0         49503.50   \n",
       "2       0.00              2        1.0             0.0        184866.69   \n",
       "3  148882.54              1        1.0             1.0         84560.88   \n",
       "4       0.00              2        1.0             1.0         15068.83   \n",
       "\n",
       "   Exited  \n",
       "0       0  \n",
       "1       0  \n",
       "2       0  \n",
       "3       0  \n",
       "4       0  "
      ]
     },
     "execution_count": 3,
     "metadata": {},
     "output_type": "execute_result"
    }
   ],
   "source": [
    "train_data = pd.read_csv('/kaggle/input/playground-series-s4e1/train.csv')\n",
    "train_data.head()"
   ]
  },
  {
   "cell_type": "code",
   "execution_count": 4,
   "id": "df7f9169",
   "metadata": {
    "execution": {
     "iopub.execute_input": "2024-01-30T23:03:33.955903Z",
     "iopub.status.busy": "2024-01-30T23:03:33.955191Z",
     "iopub.status.idle": "2024-01-30T23:03:34.106687Z",
     "shell.execute_reply": "2024-01-30T23:03:34.105369Z"
    },
    "papermill": {
     "duration": 0.17944,
     "end_time": "2024-01-30T23:03:34.109941",
     "exception": false,
     "start_time": "2024-01-30T23:03:33.930501",
     "status": "completed"
    },
    "tags": []
   },
   "outputs": [
    {
     "data": {
      "text/plain": [
       "0"
      ]
     },
     "execution_count": 4,
     "metadata": {},
     "output_type": "execute_result"
    }
   ],
   "source": [
    "# check duplicates\n",
    "train_data.duplicated().sum()"
   ]
  },
  {
   "cell_type": "code",
   "execution_count": 5,
   "id": "694ccfaa",
   "metadata": {
    "execution": {
     "iopub.execute_input": "2024-01-30T23:03:34.153879Z",
     "iopub.status.busy": "2024-01-30T23:03:34.152335Z",
     "iopub.status.idle": "2024-01-30T23:03:34.160522Z",
     "shell.execute_reply": "2024-01-30T23:03:34.159261Z"
    },
    "papermill": {
     "duration": 0.032607,
     "end_time": "2024-01-30T23:03:34.162992",
     "exception": false,
     "start_time": "2024-01-30T23:03:34.130385",
     "status": "completed"
    },
    "tags": []
   },
   "outputs": [
    {
     "data": {
      "text/plain": [
       "(165034, 14)"
      ]
     },
     "execution_count": 5,
     "metadata": {},
     "output_type": "execute_result"
    }
   ],
   "source": [
    "train_data.shape"
   ]
  },
  {
   "cell_type": "code",
   "execution_count": 6,
   "id": "429523f9",
   "metadata": {
    "execution": {
     "iopub.execute_input": "2024-01-30T23:03:34.207489Z",
     "iopub.status.busy": "2024-01-30T23:03:34.205999Z",
     "iopub.status.idle": "2024-01-30T23:03:34.219017Z",
     "shell.execute_reply": "2024-01-30T23:03:34.217361Z"
    },
    "papermill": {
     "duration": 0.038021,
     "end_time": "2024-01-30T23:03:34.221369",
     "exception": false,
     "start_time": "2024-01-30T23:03:34.183348",
     "status": "completed"
    },
    "tags": []
   },
   "outputs": [
    {
     "data": {
      "text/plain": [
       "Exited\n",
       "0    130113\n",
       "1     34921\n",
       "Name: count, dtype: int64"
      ]
     },
     "execution_count": 6,
     "metadata": {},
     "output_type": "execute_result"
    }
   ],
   "source": [
    "train_data['Exited'].value_counts()"
   ]
  },
  {
   "cell_type": "code",
   "execution_count": 7,
   "id": "88940f40",
   "metadata": {
    "execution": {
     "iopub.execute_input": "2024-01-30T23:03:34.265936Z",
     "iopub.status.busy": "2024-01-30T23:03:34.264629Z",
     "iopub.status.idle": "2024-01-30T23:03:34.278037Z",
     "shell.execute_reply": "2024-01-30T23:03:34.276830Z"
    },
    "papermill": {
     "duration": 0.038174,
     "end_time": "2024-01-30T23:03:34.280496",
     "exception": false,
     "start_time": "2024-01-30T23:03:34.242322",
     "status": "completed"
    },
    "tags": []
   },
   "outputs": [
    {
     "data": {
      "text/plain": [
       "Exited\n",
       "0    78.840118\n",
       "1    21.159882\n",
       "Name: count, dtype: float64"
      ]
     },
     "execution_count": 7,
     "metadata": {},
     "output_type": "execute_result"
    }
   ],
   "source": [
    "# Calculate the percentage\n",
    "percentage_values = (train_data['Exited'].value_counts() / len(train_data)) * 100\n",
    "percentage_values"
   ]
  },
  {
   "cell_type": "code",
   "execution_count": 8,
   "id": "09dd82da",
   "metadata": {
    "execution": {
     "iopub.execute_input": "2024-01-30T23:03:34.324813Z",
     "iopub.status.busy": "2024-01-30T23:03:34.323630Z",
     "iopub.status.idle": "2024-01-30T23:03:34.345157Z",
     "shell.execute_reply": "2024-01-30T23:03:34.343623Z"
    },
    "papermill": {
     "duration": 0.0469,
     "end_time": "2024-01-30T23:03:34.348016",
     "exception": false,
     "start_time": "2024-01-30T23:03:34.301116",
     "status": "completed"
    },
    "tags": []
   },
   "outputs": [
    {
     "data": {
      "text/plain": [
       "71209.97808453366"
      ]
     },
     "execution_count": 8,
     "metadata": {},
     "output_type": "execute_result"
    }
   ],
   "source": [
    "# Calculate average balance of customers who churned\n",
    "avg_churned_bal = train_data[train_data['Exited']==1]['Balance'].mean()\n",
    "avg_churned_bal"
   ]
  },
  {
   "cell_type": "code",
   "execution_count": 9,
   "id": "15dec9b3",
   "metadata": {
    "execution": {
     "iopub.execute_input": "2024-01-30T23:03:34.392236Z",
     "iopub.status.busy": "2024-01-30T23:03:34.391714Z",
     "iopub.status.idle": "2024-01-30T23:03:34.406725Z",
     "shell.execute_reply": "2024-01-30T23:03:34.405451Z"
    },
    "papermill": {
     "duration": 0.04045,
     "end_time": "2024-01-30T23:03:34.409590",
     "exception": false,
     "start_time": "2024-01-30T23:03:34.369140",
     "status": "completed"
    },
    "tags": []
   },
   "outputs": [],
   "source": [
    "# Create a new df that drops id, CustomerId, Surname, and Gender cols\n",
    "churn_df = train_data.drop(['id','CustomerId', 'Surname', 'Gender'], axis=1)"
   ]
  },
  {
   "cell_type": "code",
   "execution_count": 10,
   "id": "82690116",
   "metadata": {
    "execution": {
     "iopub.execute_input": "2024-01-30T23:03:34.556154Z",
     "iopub.status.busy": "2024-01-30T23:03:34.554891Z",
     "iopub.status.idle": "2024-01-30T23:03:34.620418Z",
     "shell.execute_reply": "2024-01-30T23:03:34.619167Z"
    },
    "papermill": {
     "duration": 0.191159,
     "end_time": "2024-01-30T23:03:34.623149",
     "exception": false,
     "start_time": "2024-01-30T23:03:34.431990",
     "status": "completed"
    },
    "tags": []
   },
   "outputs": [
    {
     "data": {
      "text/html": [
       "<div>\n",
       "<style scoped>\n",
       "    .dataframe tbody tr th:only-of-type {\n",
       "        vertical-align: middle;\n",
       "    }\n",
       "\n",
       "    .dataframe tbody tr th {\n",
       "        vertical-align: top;\n",
       "    }\n",
       "\n",
       "    .dataframe thead th {\n",
       "        text-align: right;\n",
       "    }\n",
       "</style>\n",
       "<table border=\"1\" class=\"dataframe\">\n",
       "  <thead>\n",
       "    <tr style=\"text-align: right;\">\n",
       "      <th></th>\n",
       "      <th>CreditScore</th>\n",
       "      <th>Age</th>\n",
       "      <th>Tenure</th>\n",
       "      <th>Balance</th>\n",
       "      <th>NumOfProducts</th>\n",
       "      <th>HasCrCard</th>\n",
       "      <th>IsActiveMember</th>\n",
       "      <th>EstimatedSalary</th>\n",
       "      <th>Exited</th>\n",
       "      <th>Geography_Germany</th>\n",
       "      <th>Geography_Spain</th>\n",
       "    </tr>\n",
       "  </thead>\n",
       "  <tbody>\n",
       "    <tr>\n",
       "      <th>0</th>\n",
       "      <td>668</td>\n",
       "      <td>33.0</td>\n",
       "      <td>3</td>\n",
       "      <td>0.00</td>\n",
       "      <td>2</td>\n",
       "      <td>1.0</td>\n",
       "      <td>0.0</td>\n",
       "      <td>181449.97</td>\n",
       "      <td>0</td>\n",
       "      <td>False</td>\n",
       "      <td>False</td>\n",
       "    </tr>\n",
       "    <tr>\n",
       "      <th>1</th>\n",
       "      <td>627</td>\n",
       "      <td>33.0</td>\n",
       "      <td>1</td>\n",
       "      <td>0.00</td>\n",
       "      <td>2</td>\n",
       "      <td>1.0</td>\n",
       "      <td>1.0</td>\n",
       "      <td>49503.50</td>\n",
       "      <td>0</td>\n",
       "      <td>False</td>\n",
       "      <td>False</td>\n",
       "    </tr>\n",
       "    <tr>\n",
       "      <th>2</th>\n",
       "      <td>678</td>\n",
       "      <td>40.0</td>\n",
       "      <td>10</td>\n",
       "      <td>0.00</td>\n",
       "      <td>2</td>\n",
       "      <td>1.0</td>\n",
       "      <td>0.0</td>\n",
       "      <td>184866.69</td>\n",
       "      <td>0</td>\n",
       "      <td>False</td>\n",
       "      <td>False</td>\n",
       "    </tr>\n",
       "    <tr>\n",
       "      <th>3</th>\n",
       "      <td>581</td>\n",
       "      <td>34.0</td>\n",
       "      <td>2</td>\n",
       "      <td>148882.54</td>\n",
       "      <td>1</td>\n",
       "      <td>1.0</td>\n",
       "      <td>1.0</td>\n",
       "      <td>84560.88</td>\n",
       "      <td>0</td>\n",
       "      <td>False</td>\n",
       "      <td>False</td>\n",
       "    </tr>\n",
       "    <tr>\n",
       "      <th>4</th>\n",
       "      <td>716</td>\n",
       "      <td>33.0</td>\n",
       "      <td>5</td>\n",
       "      <td>0.00</td>\n",
       "      <td>2</td>\n",
       "      <td>1.0</td>\n",
       "      <td>1.0</td>\n",
       "      <td>15068.83</td>\n",
       "      <td>0</td>\n",
       "      <td>False</td>\n",
       "      <td>True</td>\n",
       "    </tr>\n",
       "  </tbody>\n",
       "</table>\n",
       "</div>"
      ],
      "text/plain": [
       "   CreditScore   Age  Tenure    Balance  NumOfProducts  HasCrCard  \\\n",
       "0          668  33.0       3       0.00              2        1.0   \n",
       "1          627  33.0       1       0.00              2        1.0   \n",
       "2          678  40.0      10       0.00              2        1.0   \n",
       "3          581  34.0       2  148882.54              1        1.0   \n",
       "4          716  33.0       5       0.00              2        1.0   \n",
       "\n",
       "   IsActiveMember  EstimatedSalary  Exited  Geography_Germany  Geography_Spain  \n",
       "0             0.0        181449.97       0              False            False  \n",
       "1             1.0         49503.50       0              False            False  \n",
       "2             0.0        184866.69       0              False            False  \n",
       "3             1.0         84560.88       0              False            False  \n",
       "4             1.0         15068.83       0              False             True  "
      ]
     },
     "execution_count": 10,
     "metadata": {},
     "output_type": "execute_result"
    }
   ],
   "source": [
    "# Dummy encode categorical variables\n",
    "churn_df = pd.get_dummies(churn_df, drop_first=True)\n",
    "churn_df.head()"
   ]
  },
  {
   "cell_type": "code",
   "execution_count": 11,
   "id": "925a5f05",
   "metadata": {
    "execution": {
     "iopub.execute_input": "2024-01-30T23:03:34.668030Z",
     "iopub.status.busy": "2024-01-30T23:03:34.667501Z",
     "iopub.status.idle": "2024-01-30T23:03:34.796439Z",
     "shell.execute_reply": "2024-01-30T23:03:34.795135Z"
    },
    "papermill": {
     "duration": 0.154882,
     "end_time": "2024-01-30T23:03:34.799394",
     "exception": false,
     "start_time": "2024-01-30T23:03:34.644512",
     "status": "completed"
    },
    "tags": []
   },
   "outputs": [],
   "source": [
    "# Define the y (target) variable\n",
    "y = churn_df['Exited']\n",
    "\n",
    "# Define the X (predictor) variables\n",
    "X = churn_df.copy()\n",
    "X = X.drop('Exited', axis=1)\n",
    "\n",
    "# Split into train and test sets\n",
    "X_train, X_test, y_train, y_test = train_test_split(X, y, \n",
    "                                                    test_size=0.25, stratify=y, \n",
    "                                                    random_state=42)"
   ]
  },
  {
   "cell_type": "markdown",
   "id": "8d172f82",
   "metadata": {
    "papermill": {
     "duration": 0.020825,
     "end_time": "2024-01-30T23:03:34.841339",
     "exception": false,
     "start_time": "2024-01-30T23:03:34.820514",
     "status": "completed"
    },
    "tags": []
   },
   "source": [
    "# **Creating Logistic Regression Model**"
   ]
  },
  {
   "cell_type": "code",
   "execution_count": 12,
   "id": "3afec640",
   "metadata": {
    "execution": {
     "iopub.execute_input": "2024-01-30T23:03:34.885478Z",
     "iopub.status.busy": "2024-01-30T23:03:34.885007Z",
     "iopub.status.idle": "2024-01-30T23:03:35.739834Z",
     "shell.execute_reply": "2024-01-30T23:03:35.738279Z"
    },
    "papermill": {
     "duration": 0.882383,
     "end_time": "2024-01-30T23:03:35.744924",
     "exception": false,
     "start_time": "2024-01-30T23:03:34.862541",
     "status": "completed"
    },
    "tags": []
   },
   "outputs": [],
   "source": [
    "# Instantiate the Logistic Regression Model\n",
    "from sklearn.linear_model import LogisticRegression\n",
    "\n",
    "logistic_regression_model = LogisticRegression(random_state=0)\n",
    "\n",
    "# Fit the model to training data\n",
    "logistic_regression_model.fit(X_train, y_train)\n",
    "\n",
    "# Make predictions on test data\n",
    "lr_pred = logistic_regression_model.predict(X_test)"
   ]
  },
  {
   "cell_type": "code",
   "execution_count": 13,
   "id": "098e3f89",
   "metadata": {
    "execution": {
     "iopub.execute_input": "2024-01-30T23:03:35.840671Z",
     "iopub.status.busy": "2024-01-30T23:03:35.839979Z",
     "iopub.status.idle": "2024-01-30T23:03:35.923615Z",
     "shell.execute_reply": "2024-01-30T23:03:35.922513Z"
    },
    "papermill": {
     "duration": 0.135364,
     "end_time": "2024-01-30T23:03:35.926572",
     "exception": false,
     "start_time": "2024-01-30T23:03:35.791208",
     "status": "completed"
    },
    "tags": []
   },
   "outputs": [
    {
     "name": "stdout",
     "output_type": "stream",
     "text": [
      "      Metric  Logistic Regression\n",
      "0   Accuracy             0.784847\n",
      "1  Precision             0.467521\n",
      "2     Recall             0.121191\n",
      "3   F1 Score             0.192486\n",
      "4    roc_auc             0.542074\n"
     ]
    }
   ],
   "source": [
    "from sklearn.metrics import accuracy_score, precision_score, recall_score, f1_score, roc_auc_score, roc_curve\n",
    "\n",
    "# Assuming you have y_test and lr_pred\n",
    "# Replace these with your actual test labels and predicted labels\n",
    "\n",
    "# Calculate performance metrics\n",
    "accuracy = accuracy_score(y_test, lr_pred)\n",
    "precision = precision_score(y_test, lr_pred)\n",
    "recall = recall_score(y_test, lr_pred)\n",
    "f1 = f1_score(y_test, lr_pred)\n",
    "\n",
    "# Calculate ROC AUC\n",
    "roc_auc = roc_auc_score(y_test, lr_pred)\n",
    "\n",
    "# Create a DataFrame to store the results\n",
    "results_logistic_regression = pd.DataFrame({\n",
    "    'Metric': ['Accuracy', 'Precision', 'Recall', 'F1 Score','roc_auc'],\n",
    "    'Logistic Regression': [accuracy, precision, recall, f1, roc_auc]\n",
    "})\n",
    "\n",
    "# Print the DataFrame\n",
    "print(results_logistic_regression)"
   ]
  },
  {
   "cell_type": "code",
   "execution_count": 14,
   "id": "0d210d17",
   "metadata": {
    "execution": {
     "iopub.execute_input": "2024-01-30T23:03:35.975940Z",
     "iopub.status.busy": "2024-01-30T23:03:35.975149Z",
     "iopub.status.idle": "2024-01-30T23:03:35.982408Z",
     "shell.execute_reply": "2024-01-30T23:03:35.981313Z"
    },
    "papermill": {
     "duration": 0.035257,
     "end_time": "2024-01-30T23:03:35.985389",
     "exception": false,
     "start_time": "2024-01-30T23:03:35.950132",
     "status": "completed"
    },
    "tags": []
   },
   "outputs": [],
   "source": [
    "#save the model\n",
    "import os\n",
    "import pickle as pkl\n",
    "\n",
    "# Get the current working directory\n",
    "current_directory = os.getcwd()\n",
    "\n",
    "kaggle_folder = '/kaggle/working'\n",
    "model_file_path = os.path.join(current_directory, kaggle_folder, 'logistic_regression_model.pkl')\n",
    "\n",
    "# Save the model to the specified folder using pickle\n",
    "with open(model_file_path, 'wb') as file:\n",
    "    pkl.dump(logistic_regression_model, file)"
   ]
  },
  {
   "cell_type": "markdown",
   "id": "57b58c2e",
   "metadata": {
    "papermill": {
     "duration": 0.022455,
     "end_time": "2024-01-30T23:03:36.033659",
     "exception": false,
     "start_time": "2024-01-30T23:03:36.011204",
     "status": "completed"
    },
    "tags": []
   },
   "source": [
    "# Creating Decision Tree****"
   ]
  },
  {
   "cell_type": "code",
   "execution_count": 15,
   "id": "7d4a5e35",
   "metadata": {
    "execution": {
     "iopub.execute_input": "2024-01-30T23:03:36.082441Z",
     "iopub.status.busy": "2024-01-30T23:03:36.082029Z",
     "iopub.status.idle": "2024-01-30T23:03:37.237152Z",
     "shell.execute_reply": "2024-01-30T23:03:37.236031Z"
    },
    "papermill": {
     "duration": 1.182414,
     "end_time": "2024-01-30T23:03:37.240011",
     "exception": false,
     "start_time": "2024-01-30T23:03:36.057597",
     "status": "completed"
    },
    "tags": []
   },
   "outputs": [],
   "source": [
    "# Instantiate the model\n",
    "decision_tree = DecisionTreeClassifier(random_state=0)\n",
    "\n",
    "# Fit the model to training data\n",
    "decision_tree = decision_tree.fit(X_train, y_train)\n",
    "\n",
    "# Make predictions on test data\n",
    "dt_pred = decision_tree.predict(X_test)"
   ]
  },
  {
   "cell_type": "code",
   "execution_count": 16,
   "id": "b1860f62",
   "metadata": {
    "execution": {
     "iopub.execute_input": "2024-01-30T23:03:37.287400Z",
     "iopub.status.busy": "2024-01-30T23:03:37.286762Z",
     "iopub.status.idle": "2024-01-30T23:03:37.361160Z",
     "shell.execute_reply": "2024-01-30T23:03:37.360092Z"
    },
    "papermill": {
     "duration": 0.101254,
     "end_time": "2024-01-30T23:03:37.363664",
     "exception": false,
     "start_time": "2024-01-30T23:03:37.262410",
     "status": "completed"
    },
    "tags": []
   },
   "outputs": [
    {
     "name": "stdout",
     "output_type": "stream",
     "text": [
      "      Metric  decision_tree\n",
      "0   Accuracy       0.798202\n",
      "1  Precision       0.522489\n",
      "2     Recall       0.537572\n",
      "3   F1 Score       0.529923\n",
      "4    roc_auc       0.702860\n"
     ]
    }
   ],
   "source": [
    "# Calculate performance metrics\n",
    "accuracy = accuracy_score(y_test, dt_pred)\n",
    "precision = precision_score(y_test, dt_pred)\n",
    "recall = recall_score(y_test, dt_pred)\n",
    "f1 = f1_score(y_test, dt_pred)\n",
    "\n",
    "# Calculate ROC AUC\n",
    "roc_auc = roc_auc_score(y_test, dt_pred)\n",
    "\n",
    "# Create a DataFrame to store the results\n",
    "results_decision_tree = pd.DataFrame({\n",
    "    'Metric': ['Accuracy', 'Precision', 'Recall', 'F1 Score','roc_auc'],\n",
    "    'decision_tree': [accuracy, precision, recall, f1, roc_auc]\n",
    "})\n",
    "\n",
    "# Print the DataFrame\n",
    "print(results_decision_tree)"
   ]
  },
  {
   "cell_type": "code",
   "execution_count": 17,
   "id": "e26a3df7",
   "metadata": {
    "execution": {
     "iopub.execute_input": "2024-01-30T23:03:37.409709Z",
     "iopub.status.busy": "2024-01-30T23:03:37.409111Z",
     "iopub.status.idle": "2024-01-30T23:03:37.419919Z",
     "shell.execute_reply": "2024-01-30T23:03:37.418430Z"
    },
    "papermill": {
     "duration": 0.036778,
     "end_time": "2024-01-30T23:03:37.422690",
     "exception": false,
     "start_time": "2024-01-30T23:03:37.385912",
     "status": "completed"
    },
    "tags": []
   },
   "outputs": [],
   "source": [
    "# Get the current working directory\n",
    "current_directory = os.getcwd()\n",
    "\n",
    "kaggle_folder = '/kaggle/working'\n",
    "model_file_path = os.path.join(current_directory, kaggle_folder, 'decision_tree.pkl')\n",
    "\n",
    "# Save the model to the specified folder using pickle\n",
    "with open(model_file_path, 'wb') as file:\n",
    "    pkl.dump(decision_tree, file)"
   ]
  },
  {
   "cell_type": "markdown",
   "id": "97ad21f6",
   "metadata": {
    "papermill": {
     "duration": 0.020804,
     "end_time": "2024-01-30T23:03:37.464845",
     "exception": false,
     "start_time": "2024-01-30T23:03:37.444041",
     "status": "completed"
    },
    "tags": []
   },
   "source": [
    "# # Tuning Decision Tree****"
   ]
  },
  {
   "cell_type": "code",
   "execution_count": 18,
   "id": "2fc84c01",
   "metadata": {
    "execution": {
     "iopub.execute_input": "2024-01-30T23:03:37.509787Z",
     "iopub.status.busy": "2024-01-30T23:03:37.509297Z",
     "iopub.status.idle": "2024-01-30T23:03:37.514814Z",
     "shell.execute_reply": "2024-01-30T23:03:37.513619Z"
    },
    "papermill": {
     "duration": 0.03088,
     "end_time": "2024-01-30T23:03:37.517158",
     "exception": false,
     "start_time": "2024-01-30T23:03:37.486278",
     "status": "completed"
    },
    "tags": []
   },
   "outputs": [],
   "source": [
    "# Import GridSearchCV\n",
    "from sklearn.model_selection import GridSearchCV"
   ]
  },
  {
   "cell_type": "code",
   "execution_count": 19,
   "id": "b2b91551",
   "metadata": {
    "execution": {
     "iopub.execute_input": "2024-01-30T23:03:37.562285Z",
     "iopub.status.busy": "2024-01-30T23:03:37.561801Z",
     "iopub.status.idle": "2024-01-30T23:03:37.566626Z",
     "shell.execute_reply": "2024-01-30T23:03:37.565507Z"
    },
    "papermill": {
     "duration": 0.030739,
     "end_time": "2024-01-30T23:03:37.569261",
     "exception": false,
     "start_time": "2024-01-30T23:03:37.538522",
     "status": "completed"
    },
    "tags": []
   },
   "outputs": [],
   "source": [
    "# Instantiate the classifier\n",
    "tuned_decision_tree = DecisionTreeClassifier(random_state = 0)"
   ]
  },
  {
   "cell_type": "code",
   "execution_count": 20,
   "id": "ebc97ec1",
   "metadata": {
    "execution": {
     "iopub.execute_input": "2024-01-30T23:03:37.617076Z",
     "iopub.status.busy": "2024-01-30T23:03:37.616627Z",
     "iopub.status.idle": "2024-01-30T23:03:37.622911Z",
     "shell.execute_reply": "2024-01-30T23:03:37.621843Z"
    },
    "papermill": {
     "duration": 0.033301,
     "end_time": "2024-01-30T23:03:37.625359",
     "exception": false,
     "start_time": "2024-01-30T23:03:37.592058",
     "status": "completed"
    },
    "tags": []
   },
   "outputs": [],
   "source": [
    "# Assign a dictionary of hyperparameters to search over\n",
    "tree_para = {'max_depth':[4,5,6,7,8,9,10,11,12,15,20,30,40,50],\n",
    "             'min_samples_leaf': [2, 5, 10, 20, 50]}"
   ]
  },
  {
   "cell_type": "code",
   "execution_count": 21,
   "id": "98bf9d45",
   "metadata": {
    "execution": {
     "iopub.execute_input": "2024-01-30T23:03:37.673842Z",
     "iopub.status.busy": "2024-01-30T23:03:37.673416Z",
     "iopub.status.idle": "2024-01-30T23:03:37.679406Z",
     "shell.execute_reply": "2024-01-30T23:03:37.678206Z"
    },
    "papermill": {
     "duration": 0.033042,
     "end_time": "2024-01-30T23:03:37.681749",
     "exception": false,
     "start_time": "2024-01-30T23:03:37.648707",
     "status": "completed"
    },
    "tags": []
   },
   "outputs": [],
   "source": [
    "# Assign a set of scoring metrics to capture\n",
    "# Specify the scoring metrics\n",
    "scoring = {\n",
    "    'accuracy': 'accuracy',\n",
    "    'precision': 'precision',\n",
    "    'recall': 'recall',\n",
    "    'f1': 'f1'\n",
    "}"
   ]
  },
  {
   "cell_type": "code",
   "execution_count": 22,
   "id": "e4e09b9d",
   "metadata": {
    "execution": {
     "iopub.execute_input": "2024-01-30T23:03:37.733007Z",
     "iopub.status.busy": "2024-01-30T23:03:37.731646Z",
     "iopub.status.idle": "2024-01-30T23:06:53.044160Z",
     "shell.execute_reply": "2024-01-30T23:06:53.042630Z"
    },
    "papermill": {
     "duration": 195.36059,
     "end_time": "2024-01-30T23:06:53.065935",
     "exception": false,
     "start_time": "2024-01-30T23:03:37.705345",
     "status": "completed"
    },
    "tags": []
   },
   "outputs": [
    {
     "name": "stdout",
     "output_type": "stream",
     "text": [
      "CPU times: user 3min 14s, sys: 53.7 ms, total: 3min 15s\n",
      "Wall time: 3min 15s\n"
     ]
    },
    {
     "data": {
      "text/html": [
       "<style>#sk-container-id-1 {color: black;background-color: white;}#sk-container-id-1 pre{padding: 0;}#sk-container-id-1 div.sk-toggleable {background-color: white;}#sk-container-id-1 label.sk-toggleable__label {cursor: pointer;display: block;width: 100%;margin-bottom: 0;padding: 0.3em;box-sizing: border-box;text-align: center;}#sk-container-id-1 label.sk-toggleable__label-arrow:before {content: \"▸\";float: left;margin-right: 0.25em;color: #696969;}#sk-container-id-1 label.sk-toggleable__label-arrow:hover:before {color: black;}#sk-container-id-1 div.sk-estimator:hover label.sk-toggleable__label-arrow:before {color: black;}#sk-container-id-1 div.sk-toggleable__content {max-height: 0;max-width: 0;overflow: hidden;text-align: left;background-color: #f0f8ff;}#sk-container-id-1 div.sk-toggleable__content pre {margin: 0.2em;color: black;border-radius: 0.25em;background-color: #f0f8ff;}#sk-container-id-1 input.sk-toggleable__control:checked~div.sk-toggleable__content {max-height: 200px;max-width: 100%;overflow: auto;}#sk-container-id-1 input.sk-toggleable__control:checked~label.sk-toggleable__label-arrow:before {content: \"▾\";}#sk-container-id-1 div.sk-estimator input.sk-toggleable__control:checked~label.sk-toggleable__label {background-color: #d4ebff;}#sk-container-id-1 div.sk-label input.sk-toggleable__control:checked~label.sk-toggleable__label {background-color: #d4ebff;}#sk-container-id-1 input.sk-hidden--visually {border: 0;clip: rect(1px 1px 1px 1px);clip: rect(1px, 1px, 1px, 1px);height: 1px;margin: -1px;overflow: hidden;padding: 0;position: absolute;width: 1px;}#sk-container-id-1 div.sk-estimator {font-family: monospace;background-color: #f0f8ff;border: 1px dotted black;border-radius: 0.25em;box-sizing: border-box;margin-bottom: 0.5em;}#sk-container-id-1 div.sk-estimator:hover {background-color: #d4ebff;}#sk-container-id-1 div.sk-parallel-item::after {content: \"\";width: 100%;border-bottom: 1px solid gray;flex-grow: 1;}#sk-container-id-1 div.sk-label:hover label.sk-toggleable__label {background-color: #d4ebff;}#sk-container-id-1 div.sk-serial::before {content: \"\";position: absolute;border-left: 1px solid gray;box-sizing: border-box;top: 0;bottom: 0;left: 50%;z-index: 0;}#sk-container-id-1 div.sk-serial {display: flex;flex-direction: column;align-items: center;background-color: white;padding-right: 0.2em;padding-left: 0.2em;position: relative;}#sk-container-id-1 div.sk-item {position: relative;z-index: 1;}#sk-container-id-1 div.sk-parallel {display: flex;align-items: stretch;justify-content: center;background-color: white;position: relative;}#sk-container-id-1 div.sk-item::before, #sk-container-id-1 div.sk-parallel-item::before {content: \"\";position: absolute;border-left: 1px solid gray;box-sizing: border-box;top: 0;bottom: 0;left: 50%;z-index: -1;}#sk-container-id-1 div.sk-parallel-item {display: flex;flex-direction: column;z-index: 1;position: relative;background-color: white;}#sk-container-id-1 div.sk-parallel-item:first-child::after {align-self: flex-end;width: 50%;}#sk-container-id-1 div.sk-parallel-item:last-child::after {align-self: flex-start;width: 50%;}#sk-container-id-1 div.sk-parallel-item:only-child::after {width: 0;}#sk-container-id-1 div.sk-dashed-wrapped {border: 1px dashed gray;margin: 0 0.4em 0.5em 0.4em;box-sizing: border-box;padding-bottom: 0.4em;background-color: white;}#sk-container-id-1 div.sk-label label {font-family: monospace;font-weight: bold;display: inline-block;line-height: 1.2em;}#sk-container-id-1 div.sk-label-container {text-align: center;}#sk-container-id-1 div.sk-container {/* jupyter's `normalize.less` sets `[hidden] { display: none; }` but bootstrap.min.css set `[hidden] { display: none !important; }` so we also need the `!important` here to be able to override the default hidden behavior on the sphinx rendered scikit-learn.org. See: https://github.com/scikit-learn/scikit-learn/issues/21755 */display: inline-block !important;position: relative;}#sk-container-id-1 div.sk-text-repr-fallback {display: none;}</style><div id=\"sk-container-id-1\" class=\"sk-top-container\"><div class=\"sk-text-repr-fallback\"><pre>GridSearchCV(cv=5, estimator=DecisionTreeClassifier(random_state=0),\n",
       "             param_grid={&#x27;max_depth&#x27;: [4, 5, 6, 7, 8, 9, 10, 11, 12, 15, 20, 30,\n",
       "                                       40, 50],\n",
       "                         &#x27;min_samples_leaf&#x27;: [2, 5, 10, 20, 50]},\n",
       "             refit=&#x27;f1&#x27;,\n",
       "             scoring={&#x27;accuracy&#x27;: &#x27;accuracy&#x27;, &#x27;f1&#x27;: &#x27;f1&#x27;,\n",
       "                      &#x27;precision&#x27;: &#x27;precision&#x27;, &#x27;recall&#x27;: &#x27;recall&#x27;})</pre><b>In a Jupyter environment, please rerun this cell to show the HTML representation or trust the notebook. <br />On GitHub, the HTML representation is unable to render, please try loading this page with nbviewer.org.</b></div><div class=\"sk-container\" hidden><div class=\"sk-item sk-dashed-wrapped\"><div class=\"sk-label-container\"><div class=\"sk-label sk-toggleable\"><input class=\"sk-toggleable__control sk-hidden--visually\" id=\"sk-estimator-id-1\" type=\"checkbox\" ><label for=\"sk-estimator-id-1\" class=\"sk-toggleable__label sk-toggleable__label-arrow\">GridSearchCV</label><div class=\"sk-toggleable__content\"><pre>GridSearchCV(cv=5, estimator=DecisionTreeClassifier(random_state=0),\n",
       "             param_grid={&#x27;max_depth&#x27;: [4, 5, 6, 7, 8, 9, 10, 11, 12, 15, 20, 30,\n",
       "                                       40, 50],\n",
       "                         &#x27;min_samples_leaf&#x27;: [2, 5, 10, 20, 50]},\n",
       "             refit=&#x27;f1&#x27;,\n",
       "             scoring={&#x27;accuracy&#x27;: &#x27;accuracy&#x27;, &#x27;f1&#x27;: &#x27;f1&#x27;,\n",
       "                      &#x27;precision&#x27;: &#x27;precision&#x27;, &#x27;recall&#x27;: &#x27;recall&#x27;})</pre></div></div></div><div class=\"sk-parallel\"><div class=\"sk-parallel-item\"><div class=\"sk-item\"><div class=\"sk-label-container\"><div class=\"sk-label sk-toggleable\"><input class=\"sk-toggleable__control sk-hidden--visually\" id=\"sk-estimator-id-2\" type=\"checkbox\" ><label for=\"sk-estimator-id-2\" class=\"sk-toggleable__label sk-toggleable__label-arrow\">estimator: DecisionTreeClassifier</label><div class=\"sk-toggleable__content\"><pre>DecisionTreeClassifier(random_state=0)</pre></div></div></div><div class=\"sk-serial\"><div class=\"sk-item\"><div class=\"sk-estimator sk-toggleable\"><input class=\"sk-toggleable__control sk-hidden--visually\" id=\"sk-estimator-id-3\" type=\"checkbox\" ><label for=\"sk-estimator-id-3\" class=\"sk-toggleable__label sk-toggleable__label-arrow\">DecisionTreeClassifier</label><div class=\"sk-toggleable__content\"><pre>DecisionTreeClassifier(random_state=0)</pre></div></div></div></div></div></div></div></div></div></div>"
      ],
      "text/plain": [
       "GridSearchCV(cv=5, estimator=DecisionTreeClassifier(random_state=0),\n",
       "             param_grid={'max_depth': [4, 5, 6, 7, 8, 9, 10, 11, 12, 15, 20, 30,\n",
       "                                       40, 50],\n",
       "                         'min_samples_leaf': [2, 5, 10, 20, 50]},\n",
       "             refit='f1',\n",
       "             scoring={'accuracy': 'accuracy', 'f1': 'f1',\n",
       "                      'precision': 'precision', 'recall': 'recall'})"
      ]
     },
     "execution_count": 22,
     "metadata": {},
     "output_type": "execute_result"
    }
   ],
   "source": [
    "%%time\n",
    "# Instantiate the GridSearch\n",
    "clf = GridSearchCV(tuned_decision_tree, \n",
    "                   tree_para, \n",
    "                   scoring = scoring, \n",
    "                   cv=5, \n",
    "                   refit=\"f1\")\n",
    "\n",
    "# Fit the model\n",
    "clf.fit(X_train, y_train)"
   ]
  },
  {
   "cell_type": "code",
   "execution_count": 23,
   "id": "cc7d1311",
   "metadata": {
    "execution": {
     "iopub.execute_input": "2024-01-30T23:06:53.111556Z",
     "iopub.status.busy": "2024-01-30T23:06:53.111120Z",
     "iopub.status.idle": "2024-01-30T23:06:53.117181Z",
     "shell.execute_reply": "2024-01-30T23:06:53.116202Z"
    },
    "papermill": {
     "duration": 0.032036,
     "end_time": "2024-01-30T23:06:53.119595",
     "exception": false,
     "start_time": "2024-01-30T23:06:53.087559",
     "status": "completed"
    },
    "tags": []
   },
   "outputs": [
    {
     "name": "stdout",
     "output_type": "stream",
     "text": [
      "Best Avg. Validation Score:  0.6278\n"
     ]
    }
   ],
   "source": [
    "# Examine the best model from GridSearch\n",
    "clf.best_estimator_\n",
    "print(\"Best Avg. Validation Score: \", \"%.4f\" % clf.best_score_)"
   ]
  },
  {
   "cell_type": "code",
   "execution_count": 24,
   "id": "3be01375",
   "metadata": {
    "execution": {
     "iopub.execute_input": "2024-01-30T23:06:53.168315Z",
     "iopub.status.busy": "2024-01-30T23:06:53.167523Z",
     "iopub.status.idle": "2024-01-30T23:06:53.172827Z",
     "shell.execute_reply": "2024-01-30T23:06:53.171856Z"
    },
    "papermill": {
     "duration": 0.032275,
     "end_time": "2024-01-30T23:06:53.175268",
     "exception": false,
     "start_time": "2024-01-30T23:06:53.142993",
     "status": "completed"
    },
    "tags": []
   },
   "outputs": [],
   "source": [
    "clf_opt = DecisionTreeClassifier(max_depth=6, min_samples_leaf=50, random_state=0)"
   ]
  },
  {
   "cell_type": "code",
   "execution_count": 25,
   "id": "d1f68dc5",
   "metadata": {
    "execution": {
     "iopub.execute_input": "2024-01-30T23:06:53.222063Z",
     "iopub.status.busy": "2024-01-30T23:06:53.221265Z",
     "iopub.status.idle": "2024-01-30T23:06:53.734265Z",
     "shell.execute_reply": "2024-01-30T23:06:53.732990Z"
    },
    "papermill": {
     "duration": 0.540503,
     "end_time": "2024-01-30T23:06:53.737877",
     "exception": false,
     "start_time": "2024-01-30T23:06:53.197374",
     "status": "completed"
    },
    "tags": []
   },
   "outputs": [
    {
     "name": "stdout",
     "output_type": "stream",
     "text": [
      "CPU times: user 502 ms, sys: 978 µs, total: 503 ms\n",
      "Wall time: 505 ms\n"
     ]
    }
   ],
   "source": [
    "%%time\n",
    "\n",
    "clf_opt = clf_opt.fit(X_train, y_train)"
   ]
  },
  {
   "cell_type": "code",
   "execution_count": 26,
   "id": "af1884c1",
   "metadata": {
    "execution": {
     "iopub.execute_input": "2024-01-30T23:06:53.787320Z",
     "iopub.status.busy": "2024-01-30T23:06:53.786546Z",
     "iopub.status.idle": "2024-01-30T23:06:53.801196Z",
     "shell.execute_reply": "2024-01-30T23:06:53.799873Z"
    },
    "papermill": {
     "duration": 0.043486,
     "end_time": "2024-01-30T23:06:53.804400",
     "exception": false,
     "start_time": "2024-01-30T23:06:53.760914",
     "status": "completed"
    },
    "tags": []
   },
   "outputs": [],
   "source": [
    "# Make predictions on test data\n",
    "tuned_dt_pred = clf_opt.predict(X_test)"
   ]
  },
  {
   "cell_type": "code",
   "execution_count": 27,
   "id": "1d7a95be",
   "metadata": {
    "execution": {
     "iopub.execute_input": "2024-01-30T23:06:53.854514Z",
     "iopub.status.busy": "2024-01-30T23:06:53.853902Z",
     "iopub.status.idle": "2024-01-30T23:06:53.937519Z",
     "shell.execute_reply": "2024-01-30T23:06:53.936000Z"
    },
    "papermill": {
     "duration": 0.112121,
     "end_time": "2024-01-30T23:06:53.940590",
     "exception": false,
     "start_time": "2024-01-30T23:06:53.828469",
     "status": "completed"
    },
    "tags": []
   },
   "outputs": [
    {
     "name": "stdout",
     "output_type": "stream",
     "text": [
      "      Metric  tuned_decision_tree\n",
      "0   Accuracy             0.861727\n",
      "1  Precision             0.733302\n",
      "2     Recall             0.544559\n",
      "3   F1 Score             0.624992\n",
      "4    roc_auc             0.745703\n"
     ]
    }
   ],
   "source": [
    "# Calculate performance metrics\n",
    "accuracy = accuracy_score(y_test, tuned_dt_pred)\n",
    "precision = precision_score(y_test, tuned_dt_pred)\n",
    "recall = recall_score(y_test, tuned_dt_pred)\n",
    "f1 = f1_score(y_test, tuned_dt_pred)\n",
    "\n",
    "# Calculate ROC AUC\n",
    "roc_auc = roc_auc_score(y_test, tuned_dt_pred)\n",
    "\n",
    "# Create a DataFrame to store the results\n",
    "results_tuned_decision_tree = pd.DataFrame({\n",
    "    'Metric': ['Accuracy', 'Precision', 'Recall', 'F1 Score','roc_auc'],\n",
    "    'tuned_decision_tree': [accuracy, precision, recall, f1, roc_auc]\n",
    "})\n",
    "\n",
    "# Print the DataFrame\n",
    "print(results_tuned_decision_tree)"
   ]
  },
  {
   "cell_type": "code",
   "execution_count": 28,
   "id": "8a4ff1bd",
   "metadata": {
    "execution": {
     "iopub.execute_input": "2024-01-30T23:06:53.991942Z",
     "iopub.status.busy": "2024-01-30T23:06:53.991455Z",
     "iopub.status.idle": "2024-01-30T23:06:53.999600Z",
     "shell.execute_reply": "2024-01-30T23:06:53.998290Z"
    },
    "papermill": {
     "duration": 0.040995,
     "end_time": "2024-01-30T23:06:54.005197",
     "exception": false,
     "start_time": "2024-01-30T23:06:53.964202",
     "status": "completed"
    },
    "tags": []
   },
   "outputs": [],
   "source": [
    "import pickle\n",
    "# Get the current working directory\n",
    "current_directory = os.getcwd()\n",
    "\n",
    "kaggle_folder = '/kaggle/working'\n",
    "model_file_path = os.path.join(current_directory, kaggle_folder, 'clf_opt.pkl')\n",
    "\n",
    "# Save the model to the specified folder using pickle\n",
    "with open(model_file_path, 'wb') as file:\n",
    "    pickle.dump(clf_opt, file)"
   ]
  },
  {
   "cell_type": "markdown",
   "id": "2e93b989",
   "metadata": {
    "papermill": {
     "duration": 0.022587,
     "end_time": "2024-01-30T23:06:54.050881",
     "exception": false,
     "start_time": "2024-01-30T23:06:54.028294",
     "status": "completed"
    },
    "tags": []
   },
   "source": [
    "# Creating Random Forest****"
   ]
  },
  {
   "cell_type": "code",
   "execution_count": 29,
   "id": "e7fb8cd4",
   "metadata": {
    "execution": {
     "iopub.execute_input": "2024-01-30T23:06:54.098154Z",
     "iopub.status.busy": "2024-01-30T23:06:54.097660Z",
     "iopub.status.idle": "2024-01-30T23:06:54.174204Z",
     "shell.execute_reply": "2024-01-30T23:06:54.172748Z"
    },
    "papermill": {
     "duration": 0.103842,
     "end_time": "2024-01-30T23:06:54.177035",
     "exception": false,
     "start_time": "2024-01-30T23:06:54.073193",
     "status": "completed"
    },
    "tags": []
   },
   "outputs": [],
   "source": [
    "# Import `numpy`, `pandas`, `pickle`, and `sklearn`.\n",
    "# Import the relevant functions from `sklearn.ensemble`, `sklearn.model_selection`, and `sklearn.metrics`.\n",
    " \n",
    "import numpy as np\n",
    "import pandas as pd\n",
    "\n",
    "import pickle as pkl\n",
    "\n",
    "from sklearn.ensemble import RandomForestClassifier\n",
    "from sklearn.model_selection import train_test_split, PredefinedSplit, GridSearchCV\n",
    "from sklearn.metrics import f1_score, precision_score, recall_score, accuracy_score"
   ]
  },
  {
   "cell_type": "code",
   "execution_count": 30,
   "id": "4fd80af0",
   "metadata": {
    "execution": {
     "iopub.execute_input": "2024-01-30T23:06:54.224841Z",
     "iopub.status.busy": "2024-01-30T23:06:54.224332Z",
     "iopub.status.idle": "2024-01-30T23:06:54.230079Z",
     "shell.execute_reply": "2024-01-30T23:06:54.229190Z"
    },
    "papermill": {
     "duration": 0.032127,
     "end_time": "2024-01-30T23:06:54.232197",
     "exception": false,
     "start_time": "2024-01-30T23:06:54.200070",
     "status": "completed"
    },
    "tags": []
   },
   "outputs": [],
   "source": [
    "# Randomforest model\n",
    "\n",
    "#Determine set of hyperparameters.\n",
    "\n",
    "### YOUR CODE HERE ###\n",
    "\n",
    "cv_params = {'n_estimators' : [50,100], \n",
    "              'max_depth' : [10,50],        \n",
    "              'min_samples_leaf' : [0.5,1], \n",
    "              'min_samples_split' : [0.001, 0.01],\n",
    "              'max_features' : [\"sqrt\"], \n",
    "              'max_samples' : [.5,.9]}"
   ]
  },
  {
   "cell_type": "code",
   "execution_count": 31,
   "id": "209ead13",
   "metadata": {
    "execution": {
     "iopub.execute_input": "2024-01-30T23:06:54.278680Z",
     "iopub.status.busy": "2024-01-30T23:06:54.278196Z",
     "iopub.status.idle": "2024-01-30T23:06:54.341454Z",
     "shell.execute_reply": "2024-01-30T23:06:54.340065Z"
    },
    "papermill": {
     "duration": 0.090163,
     "end_time": "2024-01-30T23:06:54.344447",
     "exception": false,
     "start_time": "2024-01-30T23:06:54.254284",
     "status": "completed"
    },
    "tags": []
   },
   "outputs": [],
   "source": [
    "# Separate into train, validate, test sets.\n",
    "\n",
    "### YOUR CODE HERE ###\n",
    "\n",
    "X_train, X_test, y_train, y_test = train_test_split(X, y, test_size = 0.25, random_state = 0)\n",
    "X_tr, X_val, y_tr, y_val = train_test_split(X_train, y_train, test_size = 0.25, random_state = 0)"
   ]
  },
  {
   "cell_type": "code",
   "execution_count": 32,
   "id": "a7d9fa8f",
   "metadata": {
    "execution": {
     "iopub.execute_input": "2024-01-30T23:06:54.391514Z",
     "iopub.status.busy": "2024-01-30T23:06:54.391122Z",
     "iopub.status.idle": "2024-01-30T23:06:54.717974Z",
     "shell.execute_reply": "2024-01-30T23:06:54.716415Z"
    },
    "papermill": {
     "duration": 0.355201,
     "end_time": "2024-01-30T23:06:54.721717",
     "exception": false,
     "start_time": "2024-01-30T23:06:54.366516",
     "status": "completed"
    },
    "tags": []
   },
   "outputs": [],
   "source": [
    "# Create list of split indices.\n",
    "\n",
    "\n",
    "split_index = [0 if x in X_val.index else -1 for x in X_train.index]\n",
    "custom_split = PredefinedSplit(split_index)"
   ]
  },
  {
   "cell_type": "code",
   "execution_count": 33,
   "id": "23d51a45",
   "metadata": {
    "execution": {
     "iopub.execute_input": "2024-01-30T23:06:54.774214Z",
     "iopub.status.busy": "2024-01-30T23:06:54.772747Z",
     "iopub.status.idle": "2024-01-30T23:06:54.778863Z",
     "shell.execute_reply": "2024-01-30T23:06:54.777993Z"
    },
    "papermill": {
     "duration": 0.035757,
     "end_time": "2024-01-30T23:06:54.781873",
     "exception": false,
     "start_time": "2024-01-30T23:06:54.746116",
     "status": "completed"
    },
    "tags": []
   },
   "outputs": [],
   "source": [
    "# Instantiate model.\n",
    "\n",
    "\n",
    "rf = RandomForestClassifier(random_state=0)"
   ]
  },
  {
   "cell_type": "code",
   "execution_count": 34,
   "id": "9b620d69",
   "metadata": {
    "execution": {
     "iopub.execute_input": "2024-01-30T23:06:54.833342Z",
     "iopub.status.busy": "2024-01-30T23:06:54.832110Z",
     "iopub.status.idle": "2024-01-30T23:06:54.839250Z",
     "shell.execute_reply": "2024-01-30T23:06:54.837905Z"
    },
    "papermill": {
     "duration": 0.037499,
     "end_time": "2024-01-30T23:06:54.843020",
     "exception": false,
     "start_time": "2024-01-30T23:06:54.805521",
     "status": "completed"
    },
    "tags": []
   },
   "outputs": [],
   "source": [
    "# Search over specified parameters.\n",
    "\n",
    "\n",
    "rf_val = GridSearchCV(rf, cv_params, cv=custom_split, refit='f1', n_jobs = -1, verbose = 1)"
   ]
  },
  {
   "cell_type": "code",
   "execution_count": 35,
   "id": "84344b49",
   "metadata": {
    "execution": {
     "iopub.execute_input": "2024-01-30T23:06:54.896403Z",
     "iopub.status.busy": "2024-01-30T23:06:54.895949Z",
     "iopub.status.idle": "2024-01-30T23:08:10.465086Z",
     "shell.execute_reply": "2024-01-30T23:08:10.463223Z"
    },
    "papermill": {
     "duration": 75.620354,
     "end_time": "2024-01-30T23:08:10.488811",
     "exception": false,
     "start_time": "2024-01-30T23:06:54.868457",
     "status": "completed"
    },
    "tags": []
   },
   "outputs": [
    {
     "name": "stdout",
     "output_type": "stream",
     "text": [
      "Fitting 1 folds for each of 32 candidates, totalling 32 fits\n",
      "CPU times: user 14.4 s, sys: 298 ms, total: 14.7 s\n",
      "Wall time: 1min 15s\n"
     ]
    },
    {
     "data": {
      "text/html": [
       "<style>#sk-container-id-2 {color: black;background-color: white;}#sk-container-id-2 pre{padding: 0;}#sk-container-id-2 div.sk-toggleable {background-color: white;}#sk-container-id-2 label.sk-toggleable__label {cursor: pointer;display: block;width: 100%;margin-bottom: 0;padding: 0.3em;box-sizing: border-box;text-align: center;}#sk-container-id-2 label.sk-toggleable__label-arrow:before {content: \"▸\";float: left;margin-right: 0.25em;color: #696969;}#sk-container-id-2 label.sk-toggleable__label-arrow:hover:before {color: black;}#sk-container-id-2 div.sk-estimator:hover label.sk-toggleable__label-arrow:before {color: black;}#sk-container-id-2 div.sk-toggleable__content {max-height: 0;max-width: 0;overflow: hidden;text-align: left;background-color: #f0f8ff;}#sk-container-id-2 div.sk-toggleable__content pre {margin: 0.2em;color: black;border-radius: 0.25em;background-color: #f0f8ff;}#sk-container-id-2 input.sk-toggleable__control:checked~div.sk-toggleable__content {max-height: 200px;max-width: 100%;overflow: auto;}#sk-container-id-2 input.sk-toggleable__control:checked~label.sk-toggleable__label-arrow:before {content: \"▾\";}#sk-container-id-2 div.sk-estimator input.sk-toggleable__control:checked~label.sk-toggleable__label {background-color: #d4ebff;}#sk-container-id-2 div.sk-label input.sk-toggleable__control:checked~label.sk-toggleable__label {background-color: #d4ebff;}#sk-container-id-2 input.sk-hidden--visually {border: 0;clip: rect(1px 1px 1px 1px);clip: rect(1px, 1px, 1px, 1px);height: 1px;margin: -1px;overflow: hidden;padding: 0;position: absolute;width: 1px;}#sk-container-id-2 div.sk-estimator {font-family: monospace;background-color: #f0f8ff;border: 1px dotted black;border-radius: 0.25em;box-sizing: border-box;margin-bottom: 0.5em;}#sk-container-id-2 div.sk-estimator:hover {background-color: #d4ebff;}#sk-container-id-2 div.sk-parallel-item::after {content: \"\";width: 100%;border-bottom: 1px solid gray;flex-grow: 1;}#sk-container-id-2 div.sk-label:hover label.sk-toggleable__label {background-color: #d4ebff;}#sk-container-id-2 div.sk-serial::before {content: \"\";position: absolute;border-left: 1px solid gray;box-sizing: border-box;top: 0;bottom: 0;left: 50%;z-index: 0;}#sk-container-id-2 div.sk-serial {display: flex;flex-direction: column;align-items: center;background-color: white;padding-right: 0.2em;padding-left: 0.2em;position: relative;}#sk-container-id-2 div.sk-item {position: relative;z-index: 1;}#sk-container-id-2 div.sk-parallel {display: flex;align-items: stretch;justify-content: center;background-color: white;position: relative;}#sk-container-id-2 div.sk-item::before, #sk-container-id-2 div.sk-parallel-item::before {content: \"\";position: absolute;border-left: 1px solid gray;box-sizing: border-box;top: 0;bottom: 0;left: 50%;z-index: -1;}#sk-container-id-2 div.sk-parallel-item {display: flex;flex-direction: column;z-index: 1;position: relative;background-color: white;}#sk-container-id-2 div.sk-parallel-item:first-child::after {align-self: flex-end;width: 50%;}#sk-container-id-2 div.sk-parallel-item:last-child::after {align-self: flex-start;width: 50%;}#sk-container-id-2 div.sk-parallel-item:only-child::after {width: 0;}#sk-container-id-2 div.sk-dashed-wrapped {border: 1px dashed gray;margin: 0 0.4em 0.5em 0.4em;box-sizing: border-box;padding-bottom: 0.4em;background-color: white;}#sk-container-id-2 div.sk-label label {font-family: monospace;font-weight: bold;display: inline-block;line-height: 1.2em;}#sk-container-id-2 div.sk-label-container {text-align: center;}#sk-container-id-2 div.sk-container {/* jupyter's `normalize.less` sets `[hidden] { display: none; }` but bootstrap.min.css set `[hidden] { display: none !important; }` so we also need the `!important` here to be able to override the default hidden behavior on the sphinx rendered scikit-learn.org. See: https://github.com/scikit-learn/scikit-learn/issues/21755 */display: inline-block !important;position: relative;}#sk-container-id-2 div.sk-text-repr-fallback {display: none;}</style><div id=\"sk-container-id-2\" class=\"sk-top-container\"><div class=\"sk-text-repr-fallback\"><pre>GridSearchCV(cv=PredefinedSplit(test_fold=array([-1, -1, ...,  0, -1])),\n",
       "             estimator=RandomForestClassifier(random_state=0), n_jobs=-1,\n",
       "             param_grid={&#x27;max_depth&#x27;: [10, 50], &#x27;max_features&#x27;: [&#x27;sqrt&#x27;],\n",
       "                         &#x27;max_samples&#x27;: [0.5, 0.9],\n",
       "                         &#x27;min_samples_leaf&#x27;: [0.5, 1],\n",
       "                         &#x27;min_samples_split&#x27;: [0.001, 0.01],\n",
       "                         &#x27;n_estimators&#x27;: [50, 100]},\n",
       "             refit=&#x27;f1&#x27;, verbose=1)</pre><b>In a Jupyter environment, please rerun this cell to show the HTML representation or trust the notebook. <br />On GitHub, the HTML representation is unable to render, please try loading this page with nbviewer.org.</b></div><div class=\"sk-container\" hidden><div class=\"sk-item sk-dashed-wrapped\"><div class=\"sk-label-container\"><div class=\"sk-label sk-toggleable\"><input class=\"sk-toggleable__control sk-hidden--visually\" id=\"sk-estimator-id-4\" type=\"checkbox\" ><label for=\"sk-estimator-id-4\" class=\"sk-toggleable__label sk-toggleable__label-arrow\">GridSearchCV</label><div class=\"sk-toggleable__content\"><pre>GridSearchCV(cv=PredefinedSplit(test_fold=array([-1, -1, ...,  0, -1])),\n",
       "             estimator=RandomForestClassifier(random_state=0), n_jobs=-1,\n",
       "             param_grid={&#x27;max_depth&#x27;: [10, 50], &#x27;max_features&#x27;: [&#x27;sqrt&#x27;],\n",
       "                         &#x27;max_samples&#x27;: [0.5, 0.9],\n",
       "                         &#x27;min_samples_leaf&#x27;: [0.5, 1],\n",
       "                         &#x27;min_samples_split&#x27;: [0.001, 0.01],\n",
       "                         &#x27;n_estimators&#x27;: [50, 100]},\n",
       "             refit=&#x27;f1&#x27;, verbose=1)</pre></div></div></div><div class=\"sk-parallel\"><div class=\"sk-parallel-item\"><div class=\"sk-item\"><div class=\"sk-label-container\"><div class=\"sk-label sk-toggleable\"><input class=\"sk-toggleable__control sk-hidden--visually\" id=\"sk-estimator-id-5\" type=\"checkbox\" ><label for=\"sk-estimator-id-5\" class=\"sk-toggleable__label sk-toggleable__label-arrow\">estimator: RandomForestClassifier</label><div class=\"sk-toggleable__content\"><pre>RandomForestClassifier(random_state=0)</pre></div></div></div><div class=\"sk-serial\"><div class=\"sk-item\"><div class=\"sk-estimator sk-toggleable\"><input class=\"sk-toggleable__control sk-hidden--visually\" id=\"sk-estimator-id-6\" type=\"checkbox\" ><label for=\"sk-estimator-id-6\" class=\"sk-toggleable__label sk-toggleable__label-arrow\">RandomForestClassifier</label><div class=\"sk-toggleable__content\"><pre>RandomForestClassifier(random_state=0)</pre></div></div></div></div></div></div></div></div></div></div>"
      ],
      "text/plain": [
       "GridSearchCV(cv=PredefinedSplit(test_fold=array([-1, -1, ...,  0, -1])),\n",
       "             estimator=RandomForestClassifier(random_state=0), n_jobs=-1,\n",
       "             param_grid={'max_depth': [10, 50], 'max_features': ['sqrt'],\n",
       "                         'max_samples': [0.5, 0.9],\n",
       "                         'min_samples_leaf': [0.5, 1],\n",
       "                         'min_samples_split': [0.001, 0.01],\n",
       "                         'n_estimators': [50, 100]},\n",
       "             refit='f1', verbose=1)"
      ]
     },
     "execution_count": 35,
     "metadata": {},
     "output_type": "execute_result"
    }
   ],
   "source": [
    "%%time\n",
    "\n",
    "# Fit the model.\n",
    "\n",
    "\n",
    "rf_val.fit(X_train, y_train)"
   ]
  },
  {
   "cell_type": "code",
   "execution_count": 36,
   "id": "3fe4d654",
   "metadata": {
    "execution": {
     "iopub.execute_input": "2024-01-30T23:08:10.536707Z",
     "iopub.status.busy": "2024-01-30T23:08:10.536070Z",
     "iopub.status.idle": "2024-01-30T23:08:10.545787Z",
     "shell.execute_reply": "2024-01-30T23:08:10.544499Z"
    },
    "papermill": {
     "duration": 0.036927,
     "end_time": "2024-01-30T23:08:10.548124",
     "exception": false,
     "start_time": "2024-01-30T23:08:10.511197",
     "status": "completed"
    },
    "tags": []
   },
   "outputs": [
    {
     "data": {
      "text/plain": [
       "{'max_depth': 50,\n",
       " 'max_features': 'sqrt',\n",
       " 'max_samples': 0.5,\n",
       " 'min_samples_leaf': 1,\n",
       " 'min_samples_split': 0.001,\n",
       " 'n_estimators': 100}"
      ]
     },
     "execution_count": 36,
     "metadata": {},
     "output_type": "execute_result"
    }
   ],
   "source": [
    "# Obtain optimal parameters.\n",
    "\n",
    "\n",
    "rf_val.best_params_"
   ]
  },
  {
   "cell_type": "code",
   "execution_count": 37,
   "id": "6a051655",
   "metadata": {
    "execution": {
     "iopub.execute_input": "2024-01-30T23:08:10.596980Z",
     "iopub.status.busy": "2024-01-30T23:08:10.596260Z",
     "iopub.status.idle": "2024-01-30T23:08:10.602158Z",
     "shell.execute_reply": "2024-01-30T23:08:10.601020Z"
    },
    "papermill": {
     "duration": 0.033526,
     "end_time": "2024-01-30T23:08:10.605393",
     "exception": false,
     "start_time": "2024-01-30T23:08:10.571867",
     "status": "completed"
    },
    "tags": []
   },
   "outputs": [],
   "source": [
    "# Use optimal parameters on GridSearchCV.\n",
    "\n",
    "rf_opt = RandomForestClassifier(n_estimators = 100, max_depth = 50, \n",
    "                                min_samples_leaf = 1, min_samples_split = 0.001,\n",
    "                                max_features=\"sqrt\", max_samples = 0.5, random_state = 0)"
   ]
  },
  {
   "cell_type": "code",
   "execution_count": 38,
   "id": "825f8df4",
   "metadata": {
    "execution": {
     "iopub.execute_input": "2024-01-30T23:08:10.660421Z",
     "iopub.status.busy": "2024-01-30T23:08:10.659994Z",
     "iopub.status.idle": "2024-01-30T23:08:24.021598Z",
     "shell.execute_reply": "2024-01-30T23:08:24.020167Z"
    },
    "papermill": {
     "duration": 13.393781,
     "end_time": "2024-01-30T23:08:24.024759",
     "exception": false,
     "start_time": "2024-01-30T23:08:10.630978",
     "status": "completed"
    },
    "tags": []
   },
   "outputs": [
    {
     "name": "stdout",
     "output_type": "stream",
     "text": [
      "CPU times: user 4 µs, sys: 0 ns, total: 4 µs\n",
      "Wall time: 7.63 µs\n"
     ]
    }
   ],
   "source": [
    "# Fit the optimal model.\n",
    "\n",
    "%time\n",
    "\n",
    "rf_opt=rf_opt.fit(X_train, y_train)"
   ]
  },
  {
   "cell_type": "code",
   "execution_count": 39,
   "id": "8bd367fc",
   "metadata": {
    "execution": {
     "iopub.execute_input": "2024-01-30T23:08:24.079287Z",
     "iopub.status.busy": "2024-01-30T23:08:24.078884Z",
     "iopub.status.idle": "2024-01-30T23:08:24.807708Z",
     "shell.execute_reply": "2024-01-30T23:08:24.806451Z"
    },
    "papermill": {
     "duration": 0.761288,
     "end_time": "2024-01-30T23:08:24.810510",
     "exception": false,
     "start_time": "2024-01-30T23:08:24.049222",
     "status": "completed"
    },
    "tags": []
   },
   "outputs": [],
   "source": [
    "# Predict on test set.\n",
    "\n",
    "randomforest_pred = rf_opt.predict(X_test)"
   ]
  },
  {
   "cell_type": "code",
   "execution_count": 40,
   "id": "8ac1cb38",
   "metadata": {
    "execution": {
     "iopub.execute_input": "2024-01-30T23:08:24.858112Z",
     "iopub.status.busy": "2024-01-30T23:08:24.857692Z",
     "iopub.status.idle": "2024-01-30T23:08:24.935899Z",
     "shell.execute_reply": "2024-01-30T23:08:24.934314Z"
    },
    "papermill": {
     "duration": 0.105962,
     "end_time": "2024-01-30T23:08:24.939354",
     "exception": false,
     "start_time": "2024-01-30T23:08:24.833392",
     "status": "completed"
    },
    "tags": []
   },
   "outputs": [
    {
     "name": "stdout",
     "output_type": "stream",
     "text": [
      "      Metric  randomforest\n",
      "0   Accuracy      0.862285\n",
      "1  Precision      0.745590\n",
      "2     Recall      0.528508\n",
      "3   F1 Score      0.618555\n",
      "4    roc_auc      0.740100\n"
     ]
    }
   ],
   "source": [
    "# Calculate performance metrics\n",
    "accuracy = accuracy_score(y_test, randomforest_pred)\n",
    "precision = precision_score(y_test, randomforest_pred)\n",
    "recall = recall_score(y_test, randomforest_pred)\n",
    "f1 = f1_score(y_test, randomforest_pred)\n",
    "\n",
    "# Calculate ROC AUC\n",
    "roc_auc = roc_auc_score(y_test, randomforest_pred)\n",
    "\n",
    "# Create a DataFrame to store the results\n",
    "results_randomforest_pred = pd.DataFrame({\n",
    "    'Metric': ['Accuracy', 'Precision', 'Recall', 'F1 Score','roc_auc'],\n",
    "    'randomforest': [accuracy, precision, recall, f1, roc_auc]\n",
    "})\n",
    "\n",
    "# Print the DataFrame\n",
    "print(results_randomforest_pred)"
   ]
  },
  {
   "cell_type": "code",
   "execution_count": 41,
   "id": "ef2016f8",
   "metadata": {
    "execution": {
     "iopub.execute_input": "2024-01-30T23:08:24.992425Z",
     "iopub.status.busy": "2024-01-30T23:08:24.991982Z",
     "iopub.status.idle": "2024-01-30T23:08:25.020319Z",
     "shell.execute_reply": "2024-01-30T23:08:25.019164Z"
    },
    "papermill": {
     "duration": 0.058953,
     "end_time": "2024-01-30T23:08:25.023559",
     "exception": false,
     "start_time": "2024-01-30T23:08:24.964606",
     "status": "completed"
    },
    "tags": []
   },
   "outputs": [],
   "source": [
    "# Get the current working directory\n",
    "current_directory = os.getcwd()\n",
    "\n",
    "kaggle_folder = '/kaggle/working'\n",
    "model_file_path = os.path.join(current_directory, kaggle_folder, 'rf_opt.pkl')\n",
    "\n",
    "# Save the model to the specified folder using pickle\n",
    "with open(model_file_path, 'wb') as file:\n",
    "    pickle.dump(rf_opt, file)"
   ]
  },
  {
   "cell_type": "markdown",
   "id": "acd2b5c8",
   "metadata": {
    "papermill": {
     "duration": 0.025776,
     "end_time": "2024-01-30T23:08:25.073825",
     "exception": false,
     "start_time": "2024-01-30T23:08:25.048049",
     "status": "completed"
    },
    "tags": []
   },
   "source": [
    "# ****Creating XGB"
   ]
  },
  {
   "cell_type": "code",
   "execution_count": 42,
   "id": "8abd3265",
   "metadata": {
    "execution": {
     "iopub.execute_input": "2024-01-30T23:08:25.127815Z",
     "iopub.status.busy": "2024-01-30T23:08:25.127366Z",
     "iopub.status.idle": "2024-01-30T23:08:25.350548Z",
     "shell.execute_reply": "2024-01-30T23:08:25.349361Z"
    },
    "papermill": {
     "duration": 0.253425,
     "end_time": "2024-01-30T23:08:25.353291",
     "exception": false,
     "start_time": "2024-01-30T23:08:25.099866",
     "status": "completed"
    },
    "tags": []
   },
   "outputs": [],
   "source": [
    "# Import relevant libraries and modules.\n",
    "\n",
    "import numpy as np\n",
    "import pandas as pd\n",
    "import matplotlib as plt\n",
    "import pickle\n",
    "\n",
    "from sklearn.model_selection import train_test_split\n",
    "from sklearn.model_selection import GridSearchCV\n",
    "from sklearn import metrics\n",
    "\n",
    "from xgboost import XGBClassifier\n",
    "from xgboost import plot_importance"
   ]
  },
  {
   "cell_type": "code",
   "execution_count": 43,
   "id": "3320de8f",
   "metadata": {
    "execution": {
     "iopub.execute_input": "2024-01-30T23:08:25.402833Z",
     "iopub.status.busy": "2024-01-30T23:08:25.402298Z",
     "iopub.status.idle": "2024-01-30T23:08:25.408109Z",
     "shell.execute_reply": "2024-01-30T23:08:25.406894Z"
    },
    "papermill": {
     "duration": 0.0329,
     "end_time": "2024-01-30T23:08:25.410380",
     "exception": false,
     "start_time": "2024-01-30T23:08:25.377480",
     "status": "completed"
    },
    "tags": []
   },
   "outputs": [],
   "source": [
    "# Define xgb to be your XGBClassifier.\n",
    "\n",
    "xgb = XGBClassifier(objective='binary:logistic', random_state=42)"
   ]
  },
  {
   "cell_type": "code",
   "execution_count": 44,
   "id": "acacd2c4",
   "metadata": {
    "execution": {
     "iopub.execute_input": "2024-01-30T23:08:25.459542Z",
     "iopub.status.busy": "2024-01-30T23:08:25.459012Z",
     "iopub.status.idle": "2024-01-30T23:08:25.467343Z",
     "shell.execute_reply": "2024-01-30T23:08:25.466040Z"
    },
    "papermill": {
     "duration": 0.036175,
     "end_time": "2024-01-30T23:08:25.469720",
     "exception": false,
     "start_time": "2024-01-30T23:08:25.433545",
     "status": "completed"
    },
    "tags": []
   },
   "outputs": [],
   "source": [
    "# Define parameters for tuning as `cv_params`.\n",
    "\"\"\"\"\"\n",
    "cv_params = {'max_depth': [4, 6],\n",
    "              'min_child_weight': [3, 5],\n",
    "              'learning_rate': [0.1, 0.2, 0.3],\n",
    "              'n_estimators': [5,10,15],\n",
    "              'subsample': [0.7],\n",
    "              'colsample_bytree': [0.7]\n",
    "              }\n",
    "\"\"\"\"\"\n",
    "cv_params =  {\n",
    "    'max_depth': [3, 4, 5],\n",
    "    'min_child_weight': [1, 2, 3],\n",
    "    'learning_rate': [0.01, 0.1, 0.2],\n",
    "    'n_estimators': [50, 100],\n",
    "    'subsample': [0.7, 0.8],\n",
    "    'colsample_bytree': [0.7, 0.8]\n",
    "}"
   ]
  },
  {
   "cell_type": "code",
   "execution_count": 45,
   "id": "010f6a24",
   "metadata": {
    "execution": {
     "iopub.execute_input": "2024-01-30T23:08:25.517588Z",
     "iopub.status.busy": "2024-01-30T23:08:25.517096Z",
     "iopub.status.idle": "2024-01-30T23:08:25.523002Z",
     "shell.execute_reply": "2024-01-30T23:08:25.521775Z"
    },
    "papermill": {
     "duration": 0.032982,
     "end_time": "2024-01-30T23:08:25.525490",
     "exception": false,
     "start_time": "2024-01-30T23:08:25.492508",
     "status": "completed"
    },
    "tags": []
   },
   "outputs": [],
   "source": [
    "# Assign a set of scoring metrics to capture\n",
    "# Specify the scoring metrics\n",
    "scoring = {\n",
    "    'accuracy': 'accuracy',\n",
    "    'precision': 'precision',\n",
    "    'recall': 'recall',\n",
    "    'f1': 'f1',\n",
    "}"
   ]
  },
  {
   "cell_type": "code",
   "execution_count": 46,
   "id": "6fbb1aa9",
   "metadata": {
    "execution": {
     "iopub.execute_input": "2024-01-30T23:08:25.574230Z",
     "iopub.status.busy": "2024-01-30T23:08:25.573696Z",
     "iopub.status.idle": "2024-01-30T23:08:25.580001Z",
     "shell.execute_reply": "2024-01-30T23:08:25.578647Z"
    },
    "papermill": {
     "duration": 0.033785,
     "end_time": "2024-01-30T23:08:25.582525",
     "exception": false,
     "start_time": "2024-01-30T23:08:25.548740",
     "status": "completed"
    },
    "tags": []
   },
   "outputs": [],
   "source": [
    "# Construct your GridSearch.\n",
    "\n",
    "xgb_cv = GridSearchCV(xgb,\n",
    "                      cv_params,\n",
    "                      scoring = scoring,\n",
    "                      cv = 5,\n",
    "                      refit = 'f1'\n",
    "                     )"
   ]
  },
  {
   "cell_type": "code",
   "execution_count": 47,
   "id": "5c37d838",
   "metadata": {
    "execution": {
     "iopub.execute_input": "2024-01-30T23:08:25.631830Z",
     "iopub.status.busy": "2024-01-30T23:08:25.631273Z",
     "iopub.status.idle": "2024-01-30T23:22:03.575167Z",
     "shell.execute_reply": "2024-01-30T23:22:03.573671Z"
    },
    "papermill": {
     "duration": 817.994718,
     "end_time": "2024-01-30T23:22:03.600607",
     "exception": false,
     "start_time": "2024-01-30T23:08:25.605889",
     "status": "completed"
    },
    "tags": []
   },
   "outputs": [
    {
     "name": "stdout",
     "output_type": "stream",
     "text": [
      "CPU times: user 43min 41s, sys: 9.8 s, total: 43min 51s\n",
      "Wall time: 13min 37s\n"
     ]
    },
    {
     "data": {
      "text/html": [
       "<style>#sk-container-id-3 {color: black;background-color: white;}#sk-container-id-3 pre{padding: 0;}#sk-container-id-3 div.sk-toggleable {background-color: white;}#sk-container-id-3 label.sk-toggleable__label {cursor: pointer;display: block;width: 100%;margin-bottom: 0;padding: 0.3em;box-sizing: border-box;text-align: center;}#sk-container-id-3 label.sk-toggleable__label-arrow:before {content: \"▸\";float: left;margin-right: 0.25em;color: #696969;}#sk-container-id-3 label.sk-toggleable__label-arrow:hover:before {color: black;}#sk-container-id-3 div.sk-estimator:hover label.sk-toggleable__label-arrow:before {color: black;}#sk-container-id-3 div.sk-toggleable__content {max-height: 0;max-width: 0;overflow: hidden;text-align: left;background-color: #f0f8ff;}#sk-container-id-3 div.sk-toggleable__content pre {margin: 0.2em;color: black;border-radius: 0.25em;background-color: #f0f8ff;}#sk-container-id-3 input.sk-toggleable__control:checked~div.sk-toggleable__content {max-height: 200px;max-width: 100%;overflow: auto;}#sk-container-id-3 input.sk-toggleable__control:checked~label.sk-toggleable__label-arrow:before {content: \"▾\";}#sk-container-id-3 div.sk-estimator input.sk-toggleable__control:checked~label.sk-toggleable__label {background-color: #d4ebff;}#sk-container-id-3 div.sk-label input.sk-toggleable__control:checked~label.sk-toggleable__label {background-color: #d4ebff;}#sk-container-id-3 input.sk-hidden--visually {border: 0;clip: rect(1px 1px 1px 1px);clip: rect(1px, 1px, 1px, 1px);height: 1px;margin: -1px;overflow: hidden;padding: 0;position: absolute;width: 1px;}#sk-container-id-3 div.sk-estimator {font-family: monospace;background-color: #f0f8ff;border: 1px dotted black;border-radius: 0.25em;box-sizing: border-box;margin-bottom: 0.5em;}#sk-container-id-3 div.sk-estimator:hover {background-color: #d4ebff;}#sk-container-id-3 div.sk-parallel-item::after {content: \"\";width: 100%;border-bottom: 1px solid gray;flex-grow: 1;}#sk-container-id-3 div.sk-label:hover label.sk-toggleable__label {background-color: #d4ebff;}#sk-container-id-3 div.sk-serial::before {content: \"\";position: absolute;border-left: 1px solid gray;box-sizing: border-box;top: 0;bottom: 0;left: 50%;z-index: 0;}#sk-container-id-3 div.sk-serial {display: flex;flex-direction: column;align-items: center;background-color: white;padding-right: 0.2em;padding-left: 0.2em;position: relative;}#sk-container-id-3 div.sk-item {position: relative;z-index: 1;}#sk-container-id-3 div.sk-parallel {display: flex;align-items: stretch;justify-content: center;background-color: white;position: relative;}#sk-container-id-3 div.sk-item::before, #sk-container-id-3 div.sk-parallel-item::before {content: \"\";position: absolute;border-left: 1px solid gray;box-sizing: border-box;top: 0;bottom: 0;left: 50%;z-index: -1;}#sk-container-id-3 div.sk-parallel-item {display: flex;flex-direction: column;z-index: 1;position: relative;background-color: white;}#sk-container-id-3 div.sk-parallel-item:first-child::after {align-self: flex-end;width: 50%;}#sk-container-id-3 div.sk-parallel-item:last-child::after {align-self: flex-start;width: 50%;}#sk-container-id-3 div.sk-parallel-item:only-child::after {width: 0;}#sk-container-id-3 div.sk-dashed-wrapped {border: 1px dashed gray;margin: 0 0.4em 0.5em 0.4em;box-sizing: border-box;padding-bottom: 0.4em;background-color: white;}#sk-container-id-3 div.sk-label label {font-family: monospace;font-weight: bold;display: inline-block;line-height: 1.2em;}#sk-container-id-3 div.sk-label-container {text-align: center;}#sk-container-id-3 div.sk-container {/* jupyter's `normalize.less` sets `[hidden] { display: none; }` but bootstrap.min.css set `[hidden] { display: none !important; }` so we also need the `!important` here to be able to override the default hidden behavior on the sphinx rendered scikit-learn.org. See: https://github.com/scikit-learn/scikit-learn/issues/21755 */display: inline-block !important;position: relative;}#sk-container-id-3 div.sk-text-repr-fallback {display: none;}</style><div id=\"sk-container-id-3\" class=\"sk-top-container\"><div class=\"sk-text-repr-fallback\"><pre>GridSearchCV(cv=5,\n",
       "             estimator=XGBClassifier(base_score=None, booster=None,\n",
       "                                     callbacks=None, colsample_bylevel=None,\n",
       "                                     colsample_bynode=None,\n",
       "                                     colsample_bytree=None, device=None,\n",
       "                                     early_stopping_rounds=None,\n",
       "                                     enable_categorical=False, eval_metric=None,\n",
       "                                     feature_types=None, gamma=None,\n",
       "                                     grow_policy=None, importance_type=None,\n",
       "                                     interaction_constraints=None,\n",
       "                                     learning_rate=None,...\n",
       "                                     multi_strategy=None, n_estimators=None,\n",
       "                                     n_jobs=None, num_parallel_tree=None,\n",
       "                                     random_state=42, ...),\n",
       "             param_grid={&#x27;colsample_bytree&#x27;: [0.7, 0.8],\n",
       "                         &#x27;learning_rate&#x27;: [0.01, 0.1, 0.2],\n",
       "                         &#x27;max_depth&#x27;: [3, 4, 5], &#x27;min_child_weight&#x27;: [1, 2, 3],\n",
       "                         &#x27;n_estimators&#x27;: [50, 100], &#x27;subsample&#x27;: [0.7, 0.8]},\n",
       "             refit=&#x27;f1&#x27;,\n",
       "             scoring={&#x27;accuracy&#x27;: &#x27;accuracy&#x27;, &#x27;f1&#x27;: &#x27;f1&#x27;,\n",
       "                      &#x27;precision&#x27;: &#x27;precision&#x27;, &#x27;recall&#x27;: &#x27;recall&#x27;})</pre><b>In a Jupyter environment, please rerun this cell to show the HTML representation or trust the notebook. <br />On GitHub, the HTML representation is unable to render, please try loading this page with nbviewer.org.</b></div><div class=\"sk-container\" hidden><div class=\"sk-item sk-dashed-wrapped\"><div class=\"sk-label-container\"><div class=\"sk-label sk-toggleable\"><input class=\"sk-toggleable__control sk-hidden--visually\" id=\"sk-estimator-id-7\" type=\"checkbox\" ><label for=\"sk-estimator-id-7\" class=\"sk-toggleable__label sk-toggleable__label-arrow\">GridSearchCV</label><div class=\"sk-toggleable__content\"><pre>GridSearchCV(cv=5,\n",
       "             estimator=XGBClassifier(base_score=None, booster=None,\n",
       "                                     callbacks=None, colsample_bylevel=None,\n",
       "                                     colsample_bynode=None,\n",
       "                                     colsample_bytree=None, device=None,\n",
       "                                     early_stopping_rounds=None,\n",
       "                                     enable_categorical=False, eval_metric=None,\n",
       "                                     feature_types=None, gamma=None,\n",
       "                                     grow_policy=None, importance_type=None,\n",
       "                                     interaction_constraints=None,\n",
       "                                     learning_rate=None,...\n",
       "                                     multi_strategy=None, n_estimators=None,\n",
       "                                     n_jobs=None, num_parallel_tree=None,\n",
       "                                     random_state=42, ...),\n",
       "             param_grid={&#x27;colsample_bytree&#x27;: [0.7, 0.8],\n",
       "                         &#x27;learning_rate&#x27;: [0.01, 0.1, 0.2],\n",
       "                         &#x27;max_depth&#x27;: [3, 4, 5], &#x27;min_child_weight&#x27;: [1, 2, 3],\n",
       "                         &#x27;n_estimators&#x27;: [50, 100], &#x27;subsample&#x27;: [0.7, 0.8]},\n",
       "             refit=&#x27;f1&#x27;,\n",
       "             scoring={&#x27;accuracy&#x27;: &#x27;accuracy&#x27;, &#x27;f1&#x27;: &#x27;f1&#x27;,\n",
       "                      &#x27;precision&#x27;: &#x27;precision&#x27;, &#x27;recall&#x27;: &#x27;recall&#x27;})</pre></div></div></div><div class=\"sk-parallel\"><div class=\"sk-parallel-item\"><div class=\"sk-item\"><div class=\"sk-label-container\"><div class=\"sk-label sk-toggleable\"><input class=\"sk-toggleable__control sk-hidden--visually\" id=\"sk-estimator-id-8\" type=\"checkbox\" ><label for=\"sk-estimator-id-8\" class=\"sk-toggleable__label sk-toggleable__label-arrow\">estimator: XGBClassifier</label><div class=\"sk-toggleable__content\"><pre>XGBClassifier(base_score=None, booster=None, callbacks=None,\n",
       "              colsample_bylevel=None, colsample_bynode=None,\n",
       "              colsample_bytree=None, device=None, early_stopping_rounds=None,\n",
       "              enable_categorical=False, eval_metric=None, feature_types=None,\n",
       "              gamma=None, grow_policy=None, importance_type=None,\n",
       "              interaction_constraints=None, learning_rate=None, max_bin=None,\n",
       "              max_cat_threshold=None, max_cat_to_onehot=None,\n",
       "              max_delta_step=None, max_depth=None, max_leaves=None,\n",
       "              min_child_weight=None, missing=nan, monotone_constraints=None,\n",
       "              multi_strategy=None, n_estimators=None, n_jobs=None,\n",
       "              num_parallel_tree=None, random_state=42, ...)</pre></div></div></div><div class=\"sk-serial\"><div class=\"sk-item\"><div class=\"sk-estimator sk-toggleable\"><input class=\"sk-toggleable__control sk-hidden--visually\" id=\"sk-estimator-id-9\" type=\"checkbox\" ><label for=\"sk-estimator-id-9\" class=\"sk-toggleable__label sk-toggleable__label-arrow\">XGBClassifier</label><div class=\"sk-toggleable__content\"><pre>XGBClassifier(base_score=None, booster=None, callbacks=None,\n",
       "              colsample_bylevel=None, colsample_bynode=None,\n",
       "              colsample_bytree=None, device=None, early_stopping_rounds=None,\n",
       "              enable_categorical=False, eval_metric=None, feature_types=None,\n",
       "              gamma=None, grow_policy=None, importance_type=None,\n",
       "              interaction_constraints=None, learning_rate=None, max_bin=None,\n",
       "              max_cat_threshold=None, max_cat_to_onehot=None,\n",
       "              max_delta_step=None, max_depth=None, max_leaves=None,\n",
       "              min_child_weight=None, missing=nan, monotone_constraints=None,\n",
       "              multi_strategy=None, n_estimators=None, n_jobs=None,\n",
       "              num_parallel_tree=None, random_state=42, ...)</pre></div></div></div></div></div></div></div></div></div></div>"
      ],
      "text/plain": [
       "GridSearchCV(cv=5,\n",
       "             estimator=XGBClassifier(base_score=None, booster=None,\n",
       "                                     callbacks=None, colsample_bylevel=None,\n",
       "                                     colsample_bynode=None,\n",
       "                                     colsample_bytree=None, device=None,\n",
       "                                     early_stopping_rounds=None,\n",
       "                                     enable_categorical=False, eval_metric=None,\n",
       "                                     feature_types=None, gamma=None,\n",
       "                                     grow_policy=None, importance_type=None,\n",
       "                                     interaction_constraints=None,\n",
       "                                     learning_rate=None,...\n",
       "                                     multi_strategy=None, n_estimators=None,\n",
       "                                     n_jobs=None, num_parallel_tree=None,\n",
       "                                     random_state=42, ...),\n",
       "             param_grid={'colsample_bytree': [0.7, 0.8],\n",
       "                         'learning_rate': [0.01, 0.1, 0.2],\n",
       "                         'max_depth': [3, 4, 5], 'min_child_weight': [1, 2, 3],\n",
       "                         'n_estimators': [50, 100], 'subsample': [0.7, 0.8]},\n",
       "             refit='f1',\n",
       "             scoring={'accuracy': 'accuracy', 'f1': 'f1',\n",
       "                      'precision': 'precision', 'recall': 'recall'})"
      ]
     },
     "execution_count": 47,
     "metadata": {},
     "output_type": "execute_result"
    }
   ],
   "source": [
    "%%time\n",
    "# fit the GridSearch model to training data\n",
    "\n",
    "\n",
    "xgb_cv = xgb_cv.fit(X_train, y_train)\n",
    "xgb_cv"
   ]
  },
  {
   "cell_type": "code",
   "execution_count": 48,
   "id": "7a5adbba",
   "metadata": {
    "execution": {
     "iopub.execute_input": "2024-01-30T23:22:03.649852Z",
     "iopub.status.busy": "2024-01-30T23:22:03.649303Z",
     "iopub.status.idle": "2024-01-30T23:22:03.753185Z",
     "shell.execute_reply": "2024-01-30T23:22:03.752142Z"
    },
    "papermill": {
     "duration": 0.131744,
     "end_time": "2024-01-30T23:22:03.755964",
     "exception": false,
     "start_time": "2024-01-30T23:22:03.624220",
     "status": "completed"
    },
    "tags": []
   },
   "outputs": [],
   "source": [
    "# Apply your model to predict on your test data. Call this output \"xgb_pred\".\n",
    "\n",
    "\n",
    "xgb_pred = xgb_cv.predict(X_test)"
   ]
  },
  {
   "cell_type": "code",
   "execution_count": 49,
   "id": "08c6df2f",
   "metadata": {
    "execution": {
     "iopub.execute_input": "2024-01-30T23:22:03.807575Z",
     "iopub.status.busy": "2024-01-30T23:22:03.807103Z",
     "iopub.status.idle": "2024-01-30T23:22:03.881165Z",
     "shell.execute_reply": "2024-01-30T23:22:03.880263Z"
    },
    "papermill": {
     "duration": 0.103466,
     "end_time": "2024-01-30T23:22:03.884413",
     "exception": false,
     "start_time": "2024-01-30T23:22:03.780947",
     "status": "completed"
    },
    "tags": []
   },
   "outputs": [
    {
     "name": "stdout",
     "output_type": "stream",
     "text": [
      "      Metric       xgb\n",
      "0   Accuracy  0.862745\n",
      "1  Precision  0.737259\n",
      "2     Recall  0.544339\n",
      "3   F1 Score  0.626279\n",
      "4    roc_auc  0.746188\n"
     ]
    }
   ],
   "source": [
    "# Calculate performance metrics\n",
    "accuracy = accuracy_score(y_test, xgb_pred)\n",
    "precision = precision_score(y_test, xgb_pred)\n",
    "recall = recall_score(y_test, xgb_pred)\n",
    "f1 = f1_score(y_test, xgb_pred)\n",
    "\n",
    "# Calculate ROC AUC\n",
    "roc_auc = roc_auc_score(y_test, xgb_pred)\n",
    "\n",
    "# Create a DataFrame to store the results\n",
    "results_xgb_pred = pd.DataFrame({\n",
    "    'Metric': ['Accuracy', 'Precision', 'Recall', 'F1 Score','roc_auc'],\n",
    "    'xgb': [accuracy, precision, recall, f1, roc_auc]\n",
    "})\n",
    "\n",
    "# Print the DataFrame\n",
    "print(results_xgb_pred)"
   ]
  },
  {
   "cell_type": "code",
   "execution_count": 50,
   "id": "6fe9dd50",
   "metadata": {
    "execution": {
     "iopub.execute_input": "2024-01-30T23:22:03.936544Z",
     "iopub.status.busy": "2024-01-30T23:22:03.935902Z",
     "iopub.status.idle": "2024-01-30T23:22:03.948484Z",
     "shell.execute_reply": "2024-01-30T23:22:03.947614Z"
    },
    "papermill": {
     "duration": 0.041395,
     "end_time": "2024-01-30T23:22:03.951047",
     "exception": false,
     "start_time": "2024-01-30T23:22:03.909652",
     "status": "completed"
    },
    "tags": []
   },
   "outputs": [],
   "source": [
    "# Get the current working directory\n",
    "current_directory = os.getcwd()\n",
    "\n",
    "kaggle_folder = '/kaggle/working'\n",
    "model_file_path = os.path.join(current_directory, kaggle_folder, 'xgb_cv.pkl')\n",
    "\n",
    "# Save the model to the specified folder using pickle\n",
    "with open(model_file_path, 'wb') as file:\n",
    "    pickle.dump(xgb_cv, file)"
   ]
  },
  {
   "cell_type": "code",
   "execution_count": 51,
   "id": "068abe06",
   "metadata": {
    "execution": {
     "iopub.execute_input": "2024-01-30T23:22:04.001589Z",
     "iopub.status.busy": "2024-01-30T23:22:04.001162Z",
     "iopub.status.idle": "2024-01-30T23:22:04.462166Z",
     "shell.execute_reply": "2024-01-30T23:22:04.460930Z"
    },
    "papermill": {
     "duration": 0.489185,
     "end_time": "2024-01-30T23:22:04.464929",
     "exception": false,
     "start_time": "2024-01-30T23:22:03.975744",
     "status": "completed"
    },
    "tags": []
   },
   "outputs": [
    {
     "data": {
      "text/plain": [
       "<Axes: title={'center': 'Feature importance'}, xlabel='F score', ylabel='Features'>"
      ]
     },
     "execution_count": 51,
     "metadata": {},
     "output_type": "execute_result"
    },
    {
     "data": {
      "image/png": "[encoded data removed]",
      "text/plain": [
       "<Figure size 640x480 with 1 Axes>"
      ]
     },
     "metadata": {},
     "output_type": "display_data"
    }
   ],
   "source": [
    "# Plot the relative feature importance of the predictor variables in your model.\n",
    "\n",
    "plot_importance(xgb_cv.best_estimator_)"
   ]
  },
  {
   "cell_type": "code",
   "execution_count": 52,
   "id": "3b441af5",
   "metadata": {
    "execution": {
     "iopub.execute_input": "2024-01-30T23:22:04.519783Z",
     "iopub.status.busy": "2024-01-30T23:22:04.519337Z",
     "iopub.status.idle": "2024-01-30T23:22:05.866705Z",
     "shell.execute_reply": "2024-01-30T23:22:05.865393Z"
    },
    "papermill": {
     "duration": 1.379312,
     "end_time": "2024-01-30T23:22:05.870484",
     "exception": false,
     "start_time": "2024-01-30T23:22:04.491172",
     "status": "completed"
    },
    "tags": []
   },
   "outputs": [
    {
     "data": {
      "image/png": "[encoded data removed]",
      "text/plain": [
       "<Figure size 800x800 with 1 Axes>"
      ]
     },
     "metadata": {},
     "output_type": "display_data"
    }
   ],
   "source": [
    "from sklearn.metrics import roc_curve, auc\n",
    "import matplotlib.pyplot as plt\n",
    "\n",
    "# Assume you have multiple models, each with its own predicted probabilities\n",
    "# Example models: model1, model2, model3\n",
    "models = [logistic_regression_model, decision_tree, clf_opt,rf_opt,xgb_cv]\n",
    "model_labels = ['logistic_regression_model', 'decision_tree model', 'tuned decision tree model','random forest mode'\n",
    "                ,'xgb model']\n",
    "\n",
    "plt.figure(figsize=(8, 8))\n",
    "\n",
    "# Plot ROC curve for each model\n",
    "for i, model in enumerate(models):\n",
    "    y_prob = model.predict_proba(X_test)[:, 1]\n",
    "    fpr, tpr, thresholds = roc_curve(y_test, y_prob)\n",
    "    roc_auc = auc(fpr, tpr)\n",
    "    \n",
    "    # Plot ROC curve\n",
    "    plt.plot(fpr, tpr, lw=2, label='{} (AUC = {:.2f})'.format(model_labels[i], roc_auc))\n",
    "\n",
    "# Plot the diagonal line representing random guessing\n",
    "plt.plot([0, 1], [0, 1], color='navy', lw=2, linestyle='--')\n",
    "\n",
    "# Set labels and title\n",
    "plt.xlabel('False Positive Rate')\n",
    "plt.ylabel('True Positive Rate')\n",
    "plt.title('Receiver Operating Characteristic (ROC) Curve')\n",
    "\n",
    "# Display legend\n",
    "plt.legend(loc='lower right')\n",
    "\n",
    "# Show the plot\n",
    "plt.show()"
   ]
  },
  {
   "cell_type": "code",
   "execution_count": 53,
   "id": "f3888e62",
   "metadata": {
    "execution": {
     "iopub.execute_input": "2024-01-30T23:22:05.931330Z",
     "iopub.status.busy": "2024-01-30T23:22:05.930001Z",
     "iopub.status.idle": "2024-01-30T23:22:05.962484Z",
     "shell.execute_reply": "2024-01-30T23:22:05.961218Z"
    },
    "papermill": {
     "duration": 0.066537,
     "end_time": "2024-01-30T23:22:05.965193",
     "exception": false,
     "start_time": "2024-01-30T23:22:05.898656",
     "status": "completed"
    },
    "tags": []
   },
   "outputs": [
    {
     "data": {
      "text/html": [
       "<div>\n",
       "<style scoped>\n",
       "    .dataframe tbody tr th:only-of-type {\n",
       "        vertical-align: middle;\n",
       "    }\n",
       "\n",
       "    .dataframe tbody tr th {\n",
       "        vertical-align: top;\n",
       "    }\n",
       "\n",
       "    .dataframe thead th {\n",
       "        text-align: right;\n",
       "    }\n",
       "</style>\n",
       "<table border=\"1\" class=\"dataframe\">\n",
       "  <thead>\n",
       "    <tr style=\"text-align: right;\">\n",
       "      <th></th>\n",
       "      <th>Metric</th>\n",
       "      <th>Logistic Regression</th>\n",
       "      <th>decision_tree</th>\n",
       "      <th>tuned_decision_tree</th>\n",
       "      <th>randomforest</th>\n",
       "      <th>xgb</th>\n",
       "    </tr>\n",
       "  </thead>\n",
       "  <tbody>\n",
       "    <tr>\n",
       "      <th>0</th>\n",
       "      <td>Accuracy</td>\n",
       "      <td>0.784847</td>\n",
       "      <td>0.798202</td>\n",
       "      <td>0.861727</td>\n",
       "      <td>0.862285</td>\n",
       "      <td>0.862745</td>\n",
       "    </tr>\n",
       "    <tr>\n",
       "      <th>1</th>\n",
       "      <td>Precision</td>\n",
       "      <td>0.467521</td>\n",
       "      <td>0.522489</td>\n",
       "      <td>0.733302</td>\n",
       "      <td>0.745590</td>\n",
       "      <td>0.737259</td>\n",
       "    </tr>\n",
       "    <tr>\n",
       "      <th>2</th>\n",
       "      <td>Recall</td>\n",
       "      <td>0.121191</td>\n",
       "      <td>0.537572</td>\n",
       "      <td>0.544559</td>\n",
       "      <td>0.528508</td>\n",
       "      <td>0.544339</td>\n",
       "    </tr>\n",
       "    <tr>\n",
       "      <th>3</th>\n",
       "      <td>F1 Score</td>\n",
       "      <td>0.192486</td>\n",
       "      <td>0.529923</td>\n",
       "      <td>0.624992</td>\n",
       "      <td>0.618555</td>\n",
       "      <td>0.626279</td>\n",
       "    </tr>\n",
       "    <tr>\n",
       "      <th>4</th>\n",
       "      <td>roc_auc</td>\n",
       "      <td>0.542074</td>\n",
       "      <td>0.702860</td>\n",
       "      <td>0.745703</td>\n",
       "      <td>0.740100</td>\n",
       "      <td>0.746188</td>\n",
       "    </tr>\n",
       "  </tbody>\n",
       "</table>\n",
       "</div>"
      ],
      "text/plain": [
       "      Metric  Logistic Regression  decision_tree  tuned_decision_tree  \\\n",
       "0   Accuracy             0.784847       0.798202             0.861727   \n",
       "1  Precision             0.467521       0.522489             0.733302   \n",
       "2     Recall             0.121191       0.537572             0.544559   \n",
       "3   F1 Score             0.192486       0.529923             0.624992   \n",
       "4    roc_auc             0.542074       0.702860             0.745703   \n",
       "\n",
       "   randomforest       xgb  \n",
       "0      0.862285  0.862745  \n",
       "1      0.745590  0.737259  \n",
       "2      0.528508  0.544339  \n",
       "3      0.618555  0.626279  \n",
       "4      0.740100  0.746188  "
      ]
     },
     "metadata": {},
     "output_type": "display_data"
    }
   ],
   "source": [
    "# Assuming results_logistic_regression, results_decision_tree, results_tuned_decision_tree, results_randomforest_pred, and results_xgb_pred are your DataFrames\n",
    "\n",
    "# Merge results_logistic_regression and results_decision_tree\n",
    "joined_results = pd.merge(results_logistic_regression, results_decision_tree, on='Metric', how='left', suffixes=('_logistic', '_decision_tree'))\n",
    "\n",
    "# Merge with results_tuned_decision_tree\n",
    "joined_results = pd.merge(joined_results, results_tuned_decision_tree, on='Metric', how='left', suffixes=('', '_tuned_decision_tree'))\n",
    "\n",
    "# Merge with results_randomforest_pred\n",
    "joined_results = pd.merge(joined_results, results_randomforest_pred, on='Metric', how='left', suffixes=('', '_randomforest'))\n",
    "\n",
    "# Merge with results_xgb_pred\n",
    "joined_results = pd.merge(joined_results, results_xgb_pred, on='Metric', how='left', suffixes=('', '_xgb'))\n",
    "\n",
    "display(joined_results)\n"
   ]
  },
  {
   "cell_type": "markdown",
   "id": "f86fd24f",
   "metadata": {
    "papermill": {
     "duration": 0.027208,
     "end_time": "2024-01-30T23:22:06.018930",
     "exception": false,
     "start_time": "2024-01-30T23:22:05.991722",
     "status": "completed"
    },
    "tags": []
   },
   "source": [
    "# ****Applying the best case model to the test set"
   ]
  },
  {
   "cell_type": "markdown",
   "id": "0bb0b6c0",
   "metadata": {
    "papermill": {
     "duration": 0.026049,
     "end_time": "2024-01-30T23:22:06.071964",
     "exception": false,
     "start_time": "2024-01-30T23:22:06.045915",
     "status": "completed"
    },
    "tags": []
   },
   "source": [
    "Looking at the models \"xgboost\" model has the better resistence towards overfitting. However, there is very minimum difference in roc_auc, accuracy compared in all the models. So I would go for the \"xgboost\" model and apply to the test data set."
   ]
  },
  {
   "cell_type": "code",
   "execution_count": 54,
   "id": "2c06fc41",
   "metadata": {
    "execution": {
     "iopub.execute_input": "2024-01-30T23:22:06.127320Z",
     "iopub.status.busy": "2024-01-30T23:22:06.126626Z",
     "iopub.status.idle": "2024-01-30T23:22:06.460501Z",
     "shell.execute_reply": "2024-01-30T23:22:06.459682Z"
    },
    "papermill": {
     "duration": 0.364504,
     "end_time": "2024-01-30T23:22:06.462810",
     "exception": false,
     "start_time": "2024-01-30T23:22:06.098306",
     "status": "completed"
    },
    "tags": []
   },
   "outputs": [
    {
     "data": {
      "text/html": [
       "<div>\n",
       "<style scoped>\n",
       "    .dataframe tbody tr th:only-of-type {\n",
       "        vertical-align: middle;\n",
       "    }\n",
       "\n",
       "    .dataframe tbody tr th {\n",
       "        vertical-align: top;\n",
       "    }\n",
       "\n",
       "    .dataframe thead th {\n",
       "        text-align: right;\n",
       "    }\n",
       "</style>\n",
       "<table border=\"1\" class=\"dataframe\">\n",
       "  <thead>\n",
       "    <tr style=\"text-align: right;\">\n",
       "      <th></th>\n",
       "      <th>id</th>\n",
       "      <th>CustomerId</th>\n",
       "      <th>Surname</th>\n",
       "      <th>CreditScore</th>\n",
       "      <th>Geography</th>\n",
       "      <th>Gender</th>\n",
       "      <th>Age</th>\n",
       "      <th>Tenure</th>\n",
       "      <th>Balance</th>\n",
       "      <th>NumOfProducts</th>\n",
       "      <th>HasCrCard</th>\n",
       "      <th>IsActiveMember</th>\n",
       "      <th>EstimatedSalary</th>\n",
       "    </tr>\n",
       "  </thead>\n",
       "  <tbody>\n",
       "    <tr>\n",
       "      <th>0</th>\n",
       "      <td>165034</td>\n",
       "      <td>15773898</td>\n",
       "      <td>Lucchese</td>\n",
       "      <td>586</td>\n",
       "      <td>France</td>\n",
       "      <td>Female</td>\n",
       "      <td>23.0</td>\n",
       "      <td>2</td>\n",
       "      <td>0.00</td>\n",
       "      <td>2</td>\n",
       "      <td>0.0</td>\n",
       "      <td>1.0</td>\n",
       "      <td>160976.75</td>\n",
       "    </tr>\n",
       "    <tr>\n",
       "      <th>1</th>\n",
       "      <td>165035</td>\n",
       "      <td>15782418</td>\n",
       "      <td>Nott</td>\n",
       "      <td>683</td>\n",
       "      <td>France</td>\n",
       "      <td>Female</td>\n",
       "      <td>46.0</td>\n",
       "      <td>2</td>\n",
       "      <td>0.00</td>\n",
       "      <td>1</td>\n",
       "      <td>1.0</td>\n",
       "      <td>0.0</td>\n",
       "      <td>72549.27</td>\n",
       "    </tr>\n",
       "    <tr>\n",
       "      <th>2</th>\n",
       "      <td>165036</td>\n",
       "      <td>15807120</td>\n",
       "      <td>K?</td>\n",
       "      <td>656</td>\n",
       "      <td>France</td>\n",
       "      <td>Female</td>\n",
       "      <td>34.0</td>\n",
       "      <td>7</td>\n",
       "      <td>0.00</td>\n",
       "      <td>2</td>\n",
       "      <td>1.0</td>\n",
       "      <td>0.0</td>\n",
       "      <td>138882.09</td>\n",
       "    </tr>\n",
       "    <tr>\n",
       "      <th>3</th>\n",
       "      <td>165037</td>\n",
       "      <td>15808905</td>\n",
       "      <td>O'Donnell</td>\n",
       "      <td>681</td>\n",
       "      <td>France</td>\n",
       "      <td>Male</td>\n",
       "      <td>36.0</td>\n",
       "      <td>8</td>\n",
       "      <td>0.00</td>\n",
       "      <td>1</td>\n",
       "      <td>1.0</td>\n",
       "      <td>0.0</td>\n",
       "      <td>113931.57</td>\n",
       "    </tr>\n",
       "    <tr>\n",
       "      <th>4</th>\n",
       "      <td>165038</td>\n",
       "      <td>15607314</td>\n",
       "      <td>Higgins</td>\n",
       "      <td>752</td>\n",
       "      <td>Germany</td>\n",
       "      <td>Male</td>\n",
       "      <td>38.0</td>\n",
       "      <td>10</td>\n",
       "      <td>121263.62</td>\n",
       "      <td>1</td>\n",
       "      <td>1.0</td>\n",
       "      <td>0.0</td>\n",
       "      <td>139431.00</td>\n",
       "    </tr>\n",
       "  </tbody>\n",
       "</table>\n",
       "</div>"
      ],
      "text/plain": [
       "       id  CustomerId    Surname  CreditScore Geography  Gender   Age  Tenure  \\\n",
       "0  165034    15773898   Lucchese          586    France  Female  23.0       2   \n",
       "1  165035    15782418       Nott          683    France  Female  46.0       2   \n",
       "2  165036    15807120         K?          656    France  Female  34.0       7   \n",
       "3  165037    15808905  O'Donnell          681    France    Male  36.0       8   \n",
       "4  165038    15607314    Higgins          752   Germany    Male  38.0      10   \n",
       "\n",
       "     Balance  NumOfProducts  HasCrCard  IsActiveMember  EstimatedSalary  \n",
       "0       0.00              2        0.0             1.0        160976.75  \n",
       "1       0.00              1        1.0             0.0         72549.27  \n",
       "2       0.00              2        1.0             0.0        138882.09  \n",
       "3       0.00              1        1.0             0.0        113931.57  \n",
       "4  121263.62              1        1.0             0.0        139431.00  "
      ]
     },
     "execution_count": 54,
     "metadata": {},
     "output_type": "execute_result"
    }
   ],
   "source": [
    "#Read test data set\n",
    "test_data = pd.read_csv('/kaggle/input/playground-series-s4e1/test.csv')\n",
    "test_data.head()"
   ]
  },
  {
   "cell_type": "code",
   "execution_count": 55,
   "id": "285b7598",
   "metadata": {
    "execution": {
     "iopub.execute_input": "2024-01-30T23:22:06.522520Z",
     "iopub.status.busy": "2024-01-30T23:22:06.521553Z",
     "iopub.status.idle": "2024-01-30T23:22:06.529527Z",
     "shell.execute_reply": "2024-01-30T23:22:06.528792Z"
    },
    "papermill": {
     "duration": 0.041075,
     "end_time": "2024-01-30T23:22:06.532301",
     "exception": false,
     "start_time": "2024-01-30T23:22:06.491226",
     "status": "completed"
    },
    "tags": []
   },
   "outputs": [],
   "source": [
    "# Create a new df that drops id, CustomerId, Surname, and Gender cols\n",
    "x_final_test = test_data.drop(['id','CustomerId', 'Surname', 'Gender'], axis=1)"
   ]
  },
  {
   "cell_type": "code",
   "execution_count": 56,
   "id": "f2578b4e",
   "metadata": {
    "execution": {
     "iopub.execute_input": "2024-01-30T23:22:06.591919Z",
     "iopub.status.busy": "2024-01-30T23:22:06.591500Z",
     "iopub.status.idle": "2024-01-30T23:22:06.617054Z",
     "shell.execute_reply": "2024-01-30T23:22:06.615877Z"
    },
    "papermill": {
     "duration": 0.058368,
     "end_time": "2024-01-30T23:22:06.619980",
     "exception": false,
     "start_time": "2024-01-30T23:22:06.561612",
     "status": "completed"
    },
    "tags": []
   },
   "outputs": [],
   "source": [
    "# Dummy encode categorical variables\n",
    "x_final_test = pd.get_dummies(x_final_test, drop_first=True)"
   ]
  },
  {
   "cell_type": "code",
   "execution_count": 57,
   "id": "53dfedad",
   "metadata": {
    "execution": {
     "iopub.execute_input": "2024-01-30T23:22:06.675853Z",
     "iopub.status.busy": "2024-01-30T23:22:06.675404Z",
     "iopub.status.idle": "2024-01-30T23:22:06.911699Z",
     "shell.execute_reply": "2024-01-30T23:22:06.910837Z"
    },
    "papermill": {
     "duration": 0.267172,
     "end_time": "2024-01-30T23:22:06.914399",
     "exception": false,
     "start_time": "2024-01-30T23:22:06.647227",
     "status": "completed"
    },
    "tags": []
   },
   "outputs": [
    {
     "name": "stdout",
     "output_type": "stream",
     "text": [
      "[0 1 0 ... 0 0 0]\n"
     ]
    }
   ],
   "source": [
    "y_final_pred = xgb_cv.predict(x_final_test)\n",
    "print(y_final_pred)"
   ]
  },
  {
   "cell_type": "code",
   "execution_count": 58,
   "id": "ce783470",
   "metadata": {
    "execution": {
     "iopub.execute_input": "2024-01-30T23:22:06.973919Z",
     "iopub.status.busy": "2024-01-30T23:22:06.973434Z",
     "iopub.status.idle": "2024-01-30T23:22:07.222329Z",
     "shell.execute_reply": "2024-01-30T23:22:07.221338Z"
    },
    "papermill": {
     "duration": 0.281487,
     "end_time": "2024-01-30T23:22:07.224919",
     "exception": false,
     "start_time": "2024-01-30T23:22:06.943432",
     "status": "completed"
    },
    "tags": []
   },
   "outputs": [
    {
     "name": "stdout",
     "output_type": "stream",
     "text": [
      "[0.02192159 0.76552886 0.01758907 ... 0.02309821 0.11151581 0.15406917]\n"
     ]
    }
   ],
   "source": [
    "y_final_prob = xgb_cv.predict_proba(x_final_test)\n",
    "print(y_final_prob[:, 1])"
   ]
  },
  {
   "cell_type": "code",
   "execution_count": 59,
   "id": "184de025",
   "metadata": {
    "execution": {
     "iopub.execute_input": "2024-01-30T23:22:07.284200Z",
     "iopub.status.busy": "2024-01-30T23:22:07.282641Z",
     "iopub.status.idle": "2024-01-30T23:22:07.291843Z",
     "shell.execute_reply": "2024-01-30T23:22:07.290382Z"
    },
    "papermill": {
     "duration": 0.04103,
     "end_time": "2024-01-30T23:22:07.294362",
     "exception": false,
     "start_time": "2024-01-30T23:22:07.253332",
     "status": "completed"
    },
    "tags": []
   },
   "outputs": [
    {
     "name": "stdout",
     "output_type": "stream",
     "text": [
      "Count of class '0': 92960\n",
      "Count of class '1': 17063\n"
     ]
    }
   ],
   "source": [
    "class_counts = np.bincount(y_final_pred)\n",
    "\n",
    "# Assuming class '0' and '1' are the classes in your binary classification task\n",
    "count_class_0 = class_counts[0] if len(class_counts) > 1 else 0\n",
    "count_class_1 = class_counts[1] if len(class_counts) > 1 else 0\n",
    "\n",
    "print(f\"Count of class '0': {count_class_0}\")\n",
    "print(f\"Count of class '1': {count_class_1}\")"
   ]
  },
  {
   "cell_type": "code",
   "execution_count": 60,
   "id": "94ea6461",
   "metadata": {
    "execution": {
     "iopub.execute_input": "2024-01-30T23:22:07.352250Z",
     "iopub.status.busy": "2024-01-30T23:22:07.351793Z",
     "iopub.status.idle": "2024-01-30T23:22:07.364670Z",
     "shell.execute_reply": "2024-01-30T23:22:07.363329Z"
    },
    "papermill": {
     "duration": 0.045738,
     "end_time": "2024-01-30T23:22:07.367673",
     "exception": false,
     "start_time": "2024-01-30T23:22:07.321935",
     "status": "completed"
    },
    "tags": []
   },
   "outputs": [],
   "source": [
    "final_output = test_data.copy()\n",
    "final_output['Exited']= y_final_prob[:, 1]\n",
    "final_output['pred']= y_final_pred"
   ]
  },
  {
   "cell_type": "markdown",
   "id": "d8ab021e",
   "metadata": {
    "papermill": {
     "duration": 0.029294,
     "end_time": "2024-01-30T23:22:07.428359",
     "exception": false,
     "start_time": "2024-01-30T23:22:07.399065",
     "status": "completed"
    },
    "tags": []
   },
   "source": [
    "Calculate the avg balance of the customers who are predicted as the 'churn'"
   ]
  },
  {
   "cell_type": "code",
   "execution_count": 61,
   "id": "42671d97",
   "metadata": {
    "execution": {
     "iopub.execute_input": "2024-01-30T23:22:07.488863Z",
     "iopub.status.busy": "2024-01-30T23:22:07.488092Z",
     "iopub.status.idle": "2024-01-30T23:22:07.502471Z",
     "shell.execute_reply": "2024-01-30T23:22:07.501283Z"
    },
    "papermill": {
     "duration": 0.046275,
     "end_time": "2024-01-30T23:22:07.504641",
     "exception": false,
     "start_time": "2024-01-30T23:22:07.458366",
     "status": "completed"
    },
    "tags": []
   },
   "outputs": [
    {
     "data": {
      "text/plain": [
       "70056.18842466157"
      ]
     },
     "execution_count": 61,
     "metadata": {},
     "output_type": "execute_result"
    }
   ],
   "source": [
    "avg_churned_bal = final_output[final_output['pred']==1]['Balance'].mean()\n",
    "avg_churned_bal"
   ]
  },
  {
   "cell_type": "code",
   "execution_count": 62,
   "id": "c25fd490",
   "metadata": {
    "execution": {
     "iopub.execute_input": "2024-01-30T23:22:07.563455Z",
     "iopub.status.busy": "2024-01-30T23:22:07.562552Z",
     "iopub.status.idle": "2024-01-30T23:22:07.954687Z",
     "shell.execute_reply": "2024-01-30T23:22:07.953158Z"
    },
    "papermill": {
     "duration": 0.424441,
     "end_time": "2024-01-30T23:22:07.957570",
     "exception": false,
     "start_time": "2024-01-30T23:22:07.533129",
     "status": "completed"
    },
    "tags": []
   },
   "outputs": [],
   "source": [
    "Submission6=final_output[['id', 'Exited']]\n",
    "Submission6.to_csv('submission6.csv', index=None)"
   ]
  }
 ],
 "metadata": {
  "kaggle": {
   "accelerator": "none",
   "dataSources": [
    {
     "databundleVersionId": 7405009,
     "sourceId": 65711,
     "sourceType": "competition"
    }
   ],
   "dockerImageVersionId": 30635,
   "isGpuEnabled": false,
   "isInternetEnabled": false,
   "language": "python",
   "sourceType": "notebook"
  },
  "kernelspec": {
   "display_name": "Python 3",
   "language": "python",
   "name": "python3"
  },
  "language_info": {
   "codemirror_mode": {
    "name": "ipython",
    "version": 3
   },
   "file_extension": ".py",
   "mimetype": "text/x-python",
   "name": "python",
   "nbconvert_exporter": "python",
   "pygments_lexer": "ipython3",
   "version": "3.10.12"
  },
  "papermill": {
   "default_parameters": {},
   "duration": 1124.558408,
   "end_time": "2024-01-30T23:22:10.610863",
   "environment_variables": {},
   "exception": null,
   "input_path": "__notebook__.ipynb",
   "output_path": "__notebook__.ipynb",
   "parameters": {},
   "start_time": "2024-01-30T23:03:26.052455",
   "version": "2.4.0"
  }
 },
 "nbformat": 4,
 "nbformat_minor": 5
}
