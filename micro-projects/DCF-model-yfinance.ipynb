{
 "cells": [
  {
   "cell_type": "markdown",
   "id": "1cb249de-65ea-48be-8fa2-158d2abc31fe",
   "metadata": {},
   "source": [
    "# Calculate the Fair price of a company stock using DCF method"
   ]
  },
  {
   "cell_type": "markdown",
   "id": "c778f3aa-0620-4374-ad86-b855811e2db4",
   "metadata": {},
   "source": [
    "## Import necessary Libraries"
   ]
  },
  {
   "cell_type": "code",
   "execution_count": 568,
   "id": "0a125235-acd1-4a9a-865a-05081a0e949d",
   "metadata": {},
   "outputs": [],
   "source": [
    "import yfinance as yf\n",
    "import pandas as pd\n",
    "import numpy as np"
   ]
  },
  {
   "cell_type": "markdown",
   "id": "d64877c3-d286-4dc2-a280-8927b80fe0ac",
   "metadata": {},
   "source": [
    "## Company Stock you want to analyse"
   ]
  },
  {
   "cell_type": "code",
   "execution_count": 570,
   "id": "a80427ad-bb09-4e1f-a149-1c5150ad27e9",
   "metadata": {},
   "outputs": [],
   "source": [
    "# Define the stock symbol\n",
    "symbol = 'NVDA'\n",
    "\n",
    "# Determine terminal growth rate based on company profile\n",
    "company_type = \"growth\"  # Options: 'mature', 'growth', 'conservative'"
   ]
  },
  {
   "cell_type": "markdown",
   "id": "e9525a5f-4ae4-4aad-b5c2-2a9904d1fde7",
   "metadata": {},
   "source": [
    "## Extract Metrics financial metrics"
   ]
  },
  {
   "cell_type": "code",
   "execution_count": 572,
   "id": "b4b8a232-d6ec-418f-b2f1-b42fdea491c9",
   "metadata": {},
   "outputs": [
    {
     "name": "stdout",
     "output_type": "stream",
     "text": [
      "\n",
      "Extracted Metrics for DCF Calculations:\n",
      "                  Date  Total Revenue           EBIT     Net Income  \\\n",
      "0  2024-01-31 00:00:00  60922000000.0  34075000000.0  29760000000.0   \n",
      "1  2023-01-31 00:00:00  26974000000.0   4443000000.0   4368000000.0   \n",
      "2  2022-01-31 00:00:00  26914000000.0  10177000000.0   9752000000.0   \n",
      "3  2021-01-31 00:00:00  16675000000.0   4593000000.0   4332000000.0   \n",
      "\n",
      "  Operating Income Interest Expense Free Cash Flow  \\\n",
      "0    32972000000.0      257000000.0  27021000000.0   \n",
      "1     5577000000.0      262000000.0   3808000000.0   \n",
      "2    10041000000.0      236000000.0   8132000000.0   \n",
      "3     4532000000.0      184000000.0   4694000000.0   \n",
      "\n",
      "  Depreciation And Amortization Capital Expenditure Change In Working Capital  \n",
      "0                  1508000000.0       -1069000000.0             -3722000000.0  \n",
      "1                  1544000000.0       -1833000000.0             -2207000000.0  \n",
      "2                  1174000000.0        -976000000.0             -3363000000.0  \n",
      "3                  1098000000.0       -1128000000.0              -703000000.0  \n"
     ]
    }
   ],
   "source": [
    "# Create a Ticker object\n",
    "ticker = yf.Ticker(symbol)\n",
    "\n",
    "# Fetch the annual financial statements\n",
    "annual_income_statement = ticker.financials\n",
    "annual_income_statement = annual_income_statement.loc[:, annual_income_statement.columns.year >= 2021]\n",
    "\n",
    "annual_cash_flow = ticker.cashflow\n",
    "annual_cash_flow = annual_cash_flow.loc[:, annual_cash_flow.columns.year >= 2021]\n",
    "\n",
    "# Convert to DataFrames for easier handling\n",
    "income_df = annual_income_statement.reset_index()\n",
    "cash_flow_df = annual_cash_flow.reset_index()\n",
    "\n",
    "# Try to extract relevant metrics for DCF calculations\n",
    "metrics = {}\n",
    "try:\n",
    "    # Extract dates for each row to use as the first column\n",
    "    dates = income_df.columns[1:]  # Assuming the first column is 'index', so skip it\n",
    "    metrics['Date'] = dates  # Add dates as the first column\n",
    "    \n",
    "    # Extract metrics from income statement\n",
    "    if 'Total Revenue' in income_df['index'].values:\n",
    "        metrics['Total Revenue'] = income_df.set_index('index').loc['Total Revenue'].values\n",
    "    if 'Total Revenue' in income_df['index'].values:\n",
    "        metrics['EBIT'] = income_df.set_index('index').loc['EBIT'].values        \n",
    "    if 'Net Income' in income_df['index'].values:\n",
    "        metrics['Net Income'] = income_df.set_index('index').loc['Net Income'].values\n",
    "    if 'Operating Income' in income_df['index'].values:\n",
    "        metrics['Operating Income'] = income_df.set_index('index').loc['Operating Income'].values\n",
    "    if 'Interest Expense' in income_df['index'].values:\n",
    "        metrics['Interest Expense'] = income_df.set_index('index').loc['Interest Expense'].values\n",
    "\n",
    "    # Extract Capital Expenditures from Cash Flow Statement\n",
    "    if 'Free Cash Flow' in cash_flow_df['index'].values:\n",
    "        metrics['Free Cash Flow'] = cash_flow_df.set_index('index').loc['Free Cash Flow'].values\n",
    "    \n",
    "    if 'Depreciation And Amortization' in cash_flow_df['index'].values:\n",
    "        metrics['Depreciation And Amortization'] = cash_flow_df.set_index('index').loc['Depreciation And Amortization'].values\n",
    "\n",
    "    \n",
    "    if 'Capital Expenditure' in cash_flow_df['index'].values:\n",
    "        metrics['Capital Expenditure'] = cash_flow_df.set_index('index').loc['Capital Expenditure'].values\n",
    "\n",
    "    if 'Change In Working Capital' in cash_flow_df['index'].values:\n",
    "        metrics['Change In Working Capital'] = cash_flow_df.set_index('index').loc['Change In Working Capital'].values     \n",
    "\n",
    "    # Convert metrics to a DataFrame for easier viewing\n",
    "    extracted_metrics = pd.DataFrame(metrics)\n",
    "\n",
    "    # Display the extracted metrics\n",
    "    print(\"\\nExtracted Metrics for DCF Calculations:\")\n",
    "    print(extracted_metrics)\n",
    "\n",
    "except KeyError as e:\n",
    "    print(f\"Error extracting metric: {e}. Please check the available keys in the DataFrame.\")\n"
   ]
  },
  {
   "cell_type": "markdown",
   "id": "2b3c8e8a-dea5-43c5-9db0-033949f35412",
   "metadata": {},
   "source": [
    "## Calculation for WACC : Weighted Average Cost of Capital\n",
    "- Represents the average rate a company must pay to finance its assets, reflecting the cost of both debt and equity financing.\n",
    "- WACC = (E/V × Cost of Equity) + ((D/V × Cost of Debt) * (1 - Tax rate))\n",
    "- Cost of Equity = Risk-Free Rate + β × (Market Return − Risk-Free Rate)"
   ]
  },
  {
   "cell_type": "code",
   "execution_count": 574,
   "id": "8cd92986-95f7-463a-ac0f-ad393c3bb7ca",
   "metadata": {
    "scrolled": true
   },
   "outputs": [
    {
     "name": "stdout",
     "output_type": "stream",
     "text": [
      "Beta from info: 2.217616751716234\n",
      "WACC: 11.42%\n",
      "total_debt: 8,459,000,000\n",
      "market_cap: 3,417,887,735,808\n",
      "total_capital: 3,426,346,735,808\n",
      "cost_of_debt: 3.04%\n",
      "tax_rate: 12.00%\n",
      "cost_of_equity: 11.44%\n",
      "beta: 2.22\n",
      "Risk-Free Rate: 4.27%\n",
      "Expected Market Return: 7.50%\n"
     ]
    },
    {
     "name": "stderr",
     "output_type": "stream",
     "text": [
      "/var/folders/jk/b919h1bs5jl94wv24kfv4y5m0000gn/T/ipykernel_82543/828601757.py:6: FutureWarning: Series.__getitem__ treating keys as positions is deprecated. In a future version, integer keys will always be treated as labels (consistent with DataFrame behavior). To access a value by position, use `ser.iloc[pos]`\n",
      "  long_term_debt = balance_sheet.loc['Long Term Debt'][0]\n",
      "/Users/amit/anaconda3/lib/python3.11/site-packages/yfinance/utils.py:782: FutureWarning: The 'unit' keyword in TimedeltaIndex construction is deprecated and will be removed in a future version. Use pd.to_timedelta instead.\n",
      "  df.index += _pd.TimedeltaIndex(dst_error_hours, 'h')\n",
      "/Users/amit/anaconda3/lib/python3.11/site-packages/yfinance/utils.py:782: FutureWarning: The 'unit' keyword in TimedeltaIndex construction is deprecated and will be removed in a future version. Use pd.to_timedelta instead.\n",
      "  df.index += _pd.TimedeltaIndex(dst_error_hours, 'h')\n",
      "/Users/amit/anaconda3/lib/python3.11/site-packages/yfinance/utils.py:782: FutureWarning: The 'unit' keyword in TimedeltaIndex construction is deprecated and will be removed in a future version. Use pd.to_timedelta instead.\n",
      "  df.index += _pd.TimedeltaIndex(dst_error_hours, 'h')\n"
     ]
    }
   ],
   "source": [
    "# Get market cap (equity)\n",
    "market_cap = ticker.info['marketCap']\n",
    "\n",
    "# Get debt information (look in the balance sheet)\n",
    "balance_sheet = ticker.balance_sheet\n",
    "long_term_debt = balance_sheet.loc['Long Term Debt'][0]\n",
    "total_debt = long_term_debt\n",
    "\n",
    "\n",
    "# Calculate total capital\n",
    "total_capital = market_cap + total_debt\n",
    "\n",
    "# Assume values for risk-free rate, market return, beta, and tax rate\n",
    "\n",
    "# Fetch the latest data for the 10-year U.S. Treasury bond (ticker: ^TNX)\n",
    "treasury_data = yf.Ticker(\"^TNX\").history(period=\"1d\")\n",
    "risk_free_rate = treasury_data['Close'].iloc[-1] / 100  # Convert to decimal\n",
    "\n",
    "#risk_free_rate = 0.018\n",
    "expected_market_return = 0.075\n",
    "\n",
    "# # Fetch historical data for the S&P 500 index\n",
    "# snp500 = yf.Ticker(\"^GSPC\")\n",
    "# data = snp500.history(period=\"10y\")  # Get the last 10 years of data\n",
    "\n",
    "# # Calculate daily returns and then the annualized return\n",
    "# data['Daily Return'] = data['Close'].pct_change()\n",
    "# expected_market_return = (1 + data['Daily Return'].mean()) ** 252 - 1  # 252 trading days in a year\n",
    "\n",
    "# Check if 'beta' is available in ticker.info\n",
    "if 'beta' in ticker.info and ticker.info['beta'] is not None:\n",
    "    beta1 = ticker.info['beta']\n",
    "    # Beta alternative calculation\n",
    "    benchmark_symbol = '^GSPC'  # S&P 500 index\n",
    "\n",
    "    # Fetch historical data for both stock and benchmark\n",
    "    data_stock = ticker.history(period='1y')\n",
    "    data_benchmark = yf.Ticker(benchmark_symbol).history(period='1y')\n",
    "\n",
    "    # Calculate daily returns\n",
    "    stock_returns = data_stock['Close'].pct_change().dropna()\n",
    "    benchmark_returns = data_benchmark['Close'].pct_change().dropna()\n",
    "\n",
    "    # Calculate covariance and variance\n",
    "    covariance = np.cov(stock_returns, benchmark_returns)[0][1]\n",
    "    variance = np.var(benchmark_returns)\n",
    "\n",
    "    # Calculate beta\n",
    "    beta2 = covariance / variance\n",
    "    beta = (beta1 + beta2) / 2\n",
    "    print(\"Beta from info:\", beta)\n",
    "else:\n",
    "    # Beta alternative calculation\n",
    "    benchmark_symbol = '^GSPC'  # S&P 500 index\n",
    "\n",
    "    # Fetch historical data for both stock and benchmark\n",
    "    data_stock = ticker.history(period='1y')\n",
    "    data_benchmark = yf.Ticker(benchmark_symbol).history(period='1y')\n",
    "\n",
    "    # Calculate daily returns\n",
    "    stock_returns = data_stock['Close'].pct_change().dropna()\n",
    "    benchmark_returns = data_benchmark['Close'].pct_change().dropna()\n",
    "\n",
    "    # Calculate covariance and variance\n",
    "    covariance = np.cov(stock_returns, benchmark_returns)[0][1]\n",
    "    variance = np.var(benchmark_returns)\n",
    "\n",
    "    # Calculate beta\n",
    "    beta = covariance / variance\n",
    "    print(\"Beta calculated from historical data:\", beta)\n",
    "\n",
    "#cost_of_debt = 0.03\n",
    "interest_expense = annual_income_statement.loc['Interest Expense'].values[0]\n",
    "\n",
    "# Calculate Cost of Debt\n",
    "cost_of_debt = interest_expense / total_debt if total_debt else 0\n",
    "\n",
    "\n",
    "# Extract Income Tax Expense and Pre-Tax Income\n",
    "income_tax_expense = annual_income_statement.loc['Tax Provision'].values[0]\n",
    "pre_tax_income = annual_income_statement.loc['Pretax Income'].values[0]\n",
    "\n",
    "tax_rate = income_tax_expense / pre_tax_income\n",
    "\n",
    "# Calculate cost of equity\n",
    "cost_of_equity = risk_free_rate + beta * (expected_market_return - risk_free_rate)\n",
    "\n",
    "# Calculate WACC\n",
    "wacc = ((market_cap / total_capital) * cost_of_equity) + ((total_debt / total_capital) * cost_of_debt * (1 - tax_rate))\n",
    "\n",
    "print(f\"WACC: {wacc:.2%}\")\n",
    "print(f\"total_debt: {total_debt:,.0f}\")\n",
    "print(f\"market_cap: {market_cap:,.0f}\")\n",
    "print(f\"total_capital: {total_capital:,.0f}\")\n",
    "print(f\"cost_of_debt: {cost_of_debt:,.2%}\")\n",
    "print(f\"tax_rate: {tax_rate:,.2%}\") \n",
    "print(f\"cost_of_equity: {cost_of_equity:,.2%}\") \n",
    "print(f\"beta: {beta:,.2f}\") \n",
    "print(f\"Risk-Free Rate: {risk_free_rate:.2%}\")\n",
    "print(f\"Expected Market Return: {expected_market_return:.2%}\")"
   ]
  },
  {
   "cell_type": "markdown",
   "id": "d129ee80-ba58-4d3c-85b8-b383e0ac8f84",
   "metadata": {},
   "source": [
    "## Project FCF using CAGR on FCF"
   ]
  },
  {
   "cell_type": "code",
   "execution_count": 576,
   "id": "9f7b3493-e2b9-4a43-87f9-c339d0e94ae7",
   "metadata": {},
   "outputs": [
    {
     "name": "stdout",
     "output_type": "stream",
     "text": [
      "CAGR of FCF: 0.79219850508893\n",
      "Current FCF: ['27,021,000,000', '3,808,000,000', '8,132,000,000', '4,694,000,000']\n",
      "Projected Future FCF: ['48,426,995,806', '86,790,789,489', '155,546,323,179', '278,769,887,873', '499,610,976,309']\n"
     ]
    }
   ],
   "source": [
    "# Drop any rows with NaN values in the 'Free Cash Flow' column to avoid issues\n",
    "fcf_values = extracted_metrics['Free Cash Flow'].dropna().astype(float).tolist()\n",
    "\n",
    "# Calculate CAGR\n",
    "ending_value = fcf_values[0] \n",
    "beginning_value = fcf_values[-1] \n",
    "n = len(fcf_values) - 1\n",
    "\n",
    "# CAGR calculation\n",
    "cagr = (ending_value / beginning_value) ** (1 / n) - 1\n",
    "\n",
    "# Print CAGR\n",
    "print(\"CAGR of FCF:\", cagr)\n",
    "\n",
    "# Output the projected future FCF values\n",
    "print(\"Current FCF:\",[f\"{value:,.0f}\" for value in fcf_values])\n",
    "\n",
    "# Project future FCF using the average growth rate\n",
    "projected_fcf1 = [fcf_values[0] * (1 + cagr) ** i for i in range(1, 6)]\n",
    "\n",
    "# Output the projected future FCF values\n",
    "print(\"Projected Future FCF:\", [f\"{value:,.0f}\" for value in projected_fcf1])"
   ]
  },
  {
   "cell_type": "markdown",
   "id": "45ae78e5-7ec0-4fcf-844d-8729672944c0",
   "metadata": {},
   "source": [
    "## Project FCF using Revenue growth & FCF margin"
   ]
  },
  {
   "cell_type": "code",
   "execution_count": 578,
   "id": "158f436b-3f7c-46b9-87a0-9f6a573cd130",
   "metadata": {},
   "outputs": [
    {
     "name": "stdout",
     "output_type": "stream",
     "text": [
      "Revenue values : ['60,922,000,000', '26,974,000,000', '26,914,000,000', '16,675,000,000']\n",
      "FCF margin: ['0.4435', '0.1412', '0.3021', '0.2815']\n",
      "Max FCF margin:  0.4435343554052723\n"
     ]
    }
   ],
   "source": [
    "# Drop any rows with NaN values in the 'Total Revenue' column to avoid issues\n",
    "revenue_values = extracted_metrics['Total Revenue'].dropna().astype(float).tolist()\n",
    "print(\"Revenue values :\", [f\"{value:,.0f}\" for value in revenue_values])\n",
    "\n",
    "fcf_margins = []\n",
    "\n",
    "for i in range(0, len(revenue_values)):\n",
    "    fcf_margin = fcf_values[i]/revenue_values[i]\n",
    "    fcf_margins.append(fcf_margin)\n",
    "\n",
    "print(\"FCF margin:\", [f\"{value:,.4f}\" for value in fcf_margins])\n",
    "# mean_fcf_margin = sum(fcf_margins) / len(fcf_margins)\n",
    "# print(mean_fcf_margin)\n",
    "\n",
    "mean_fcf_margin = max(fcf_margins)\n",
    "print(\"Max FCF margin: \",mean_fcf_margin)\n"
   ]
  },
  {
   "cell_type": "code",
   "execution_count": 579,
   "id": "24464ba6-be69-4ae8-8878-9dca709b7513",
   "metadata": {},
   "outputs": [
    {
     "name": "stdout",
     "output_type": "stream",
     "text": [
      "Revenue growth assumption: 0.5045\n",
      "Projected Future revenue: ['91,658,364,654', '137,901,838,597', '207,476,067,899', '312,151,884,187', '469,638,738,521']\n",
      "Current FCF: ['27,021,000,000', '3,808,000,000', '8,132,000,000', '4,694,000,000']\n",
      "Projected Future FCFs: ['61,164,203,091', '92,022,764,038', '138,450,084,741', '208,300,915,163', '313,392,883,355']\n"
     ]
    }
   ],
   "source": [
    "# Revenue growth assumption\n",
    "\n",
    "# Calculate CAGR\n",
    "ending_value = revenue_values[0] \n",
    "beginning_value = revenue_values[2] \n",
    "n = 2\n",
    "\n",
    "# CAGR calculation\n",
    "cagr_revenue = (ending_value / beginning_value) ** (1 / n) - 1\n",
    "\n",
    "\n",
    "print(\"Revenue growth assumption:\", f\"{cagr_revenue:,.4f}\")\n",
    "\n",
    "# Project future revenue using the average growth rate\n",
    "projected_revenue = [revenue_values[0] * (1 + cagr_revenue) ** i for i in range(1, 6)]\n",
    "\n",
    "# Output the projected future Revenue values\n",
    "print(\"Projected Future revenue:\", [f\"{value:,.0f}\" for value in projected_revenue])\n",
    "\n",
    "# Project future revenue using the average growth rate\n",
    "projected_fcf2 = [projected_revenue[0] * mean_fcf_margin * (1 + cagr_revenue) ** i for i in range(1, 6)]\n",
    "\n",
    "# Output the current FCF values\n",
    "print(\"Current FCF:\", [f\"{value:,.0f}\" for value in fcf_values])\n",
    "\n",
    "# Output the projected future Revenue values\n",
    "print(\"Projected Future FCFs:\", [f\"{value:,.0f}\" for value in projected_fcf2])"
   ]
  },
  {
   "cell_type": "code",
   "execution_count": 580,
   "id": "a572057b-1b8b-47d8-9cda-58769c1c5150",
   "metadata": {},
   "outputs": [
    {
     "name": "stdout",
     "output_type": "stream",
     "text": [
      "Average Projected Future FCFs: ['56,069,320,177', '89,929,974,218', '145,288,580,116', '236,488,504,247', '387,880,120,537']\n"
     ]
    }
   ],
   "source": [
    "# create an average of both of these FCFs methods:\n",
    "\n",
    "# Calculate the average of both projected FCFs\n",
    "#projected_fcf = [(f1 + f2) / 2 for f1, f2 in zip(projected_fcf1, projected_fcf2)]\n",
    "\n",
    "projected_fcf = [((0.4*f1) + (0.6*f2)) for f1, f2 in zip(projected_fcf1, projected_fcf2)]\n",
    "\n",
    "# Display the average FCFs\n",
    "print(\"Average Projected Future FCFs:\", [f\"{value:,.0f}\" for value in projected_fcf])"
   ]
  },
  {
   "cell_type": "markdown",
   "id": "b9a6e521-0540-4d55-a1b4-08ac1656bf3f",
   "metadata": {},
   "source": [
    "## Get DCFs, Terminal Value, Discounted Terminal Value & Enterprise Value"
   ]
  },
  {
   "cell_type": "code",
   "execution_count": 582,
   "id": "89559c8e-708f-4516-9e9e-f38327dd9d00",
   "metadata": {},
   "outputs": [
    {
     "name": "stdout",
     "output_type": "stream",
     "text": [
      "Discounted FCFs: ['50,324,236,953', '72,444,978,047', '105,047,858,630', '153,467,941,174', '225,921,239,717']\n",
      "Terminal Value: 5,439,427,445,285\n",
      "Discounted Terminal Value: 3,168,201,015,535\n",
      "Enterprise Value: 3,775,407,270,056\n"
     ]
    }
   ],
   "source": [
    "# Given values\n",
    "discounted_fcf = [projected_fcf[i] / ((1 + wacc) ** (i + 1)) for i in range(len(projected_fcf))]\n",
    "\n",
    "# Calculate Terminal Value (using a conservative growth rate)\n",
    "\n",
    "if company_type == \"mature\":\n",
    "    terminal_growth_rate = 0.025  # 2.5% for stable companies\n",
    "elif company_type == \"growth\":\n",
    "    terminal_growth_rate = 0.04   # 4% for high-growth industries\n",
    "elif company_type == \"conservative\":\n",
    "    terminal_growth_rate = 0.01  # 1% conservative for high stability\n",
    "\n",
    "terminal_value = projected_fcf[-1] * (1 + terminal_growth_rate) / (wacc - terminal_growth_rate)\n",
    "\n",
    "# Discounted Terminal Value\n",
    "discounted_terminal_value = terminal_value / ((1 + wacc) ** len(projected_fcf))\n",
    "\n",
    "# Calculate Enterprise Value\n",
    "enterprise_value = sum(discounted_fcf) + discounted_terminal_value\n",
    "\n",
    "# Output results\n",
    "print(\"Discounted FCFs:\", [f\"{value:,.0f}\" for value in discounted_fcf])\n",
    "print(\"Terminal Value:\", f\"{terminal_value:,.0f}\")\n",
    "print(\"Discounted Terminal Value:\", f\"{discounted_terminal_value:,.0f}\")\n",
    "print(\"Enterprise Value:\", f\"{enterprise_value:,.0f}\")\n"
   ]
  },
  {
   "cell_type": "markdown",
   "id": "29c3787d-ea4e-454e-87db-21b5f96c4701",
   "metadata": {},
   "source": [
    "## Calculate Fair Stock Price"
   ]
  },
  {
   "cell_type": "code",
   "execution_count": 584,
   "id": "daaccf11-0892-4606-9cbe-645a9a2bf076",
   "metadata": {},
   "outputs": [
    {
     "name": "stdout",
     "output_type": "stream",
     "text": [
      "Outstanding Shares for: 24,530,001,334\n",
      "Total Debt: 8,459,000,000\n",
      "Cash and Cash Equivalents: 7,280,000,000\n",
      "Net Debt: 1,179,000,000\n",
      "Equity Value: 3,774,228,270,056\n"
     ]
    },
    {
     "name": "stderr",
     "output_type": "stream",
     "text": [
      "/var/folders/jk/b919h1bs5jl94wv24kfv4y5m0000gn/T/ipykernel_82543/1240101738.py:27: FutureWarning: Series.__getitem__ treating keys as positions is deprecated. In a future version, integer keys will always be treated as labels (consistent with DataFrame behavior). To access a value by position, use `ser.iloc[pos]`\n",
      "  cash_and_equivalents = balance_sheet.loc['Cash And Cash Equivalents'][0]\n"
     ]
    }
   ],
   "source": [
    "# Get the outstanding shares\n",
    "def get_outstanding_shares(ticker):\n",
    "    try:\n",
    "        # Fetch the stock data\n",
    "        stock = yf.Ticker(ticker)\n",
    "\n",
    "        # Get Market Capitalization and Current Stock Price\n",
    "        market_cap = stock.info.get('marketCap')\n",
    "        current_price = stock.info.get('currentPrice')\n",
    "\n",
    "        # Calculate Outstanding Shares\n",
    "        if market_cap is not None and current_price is not None:\n",
    "            outstanding_shares = market_cap / current_price\n",
    "            return outstanding_shares\n",
    "        else:\n",
    "            return None  # Return None if data is not available\n",
    "    except Exception as e:\n",
    "        print(f\"Error fetching data for {ticker}: {e}\")\n",
    "        return None\n",
    "\n",
    "outstanding_shares = get_outstanding_shares(symbol)\n",
    "\n",
    "# Get total debt and cash equivalents for net debt calculation\n",
    "# total_debt = ticker.info['totalDebt']\n",
    "# cash_and_equivalents = ticker.info['totalCash']\n",
    "\n",
    "cash_and_equivalents = balance_sheet.loc['Cash And Cash Equivalents'][0]\n",
    "\n",
    "# Calculate Net Debt\n",
    "net_debt = total_debt - cash_and_equivalents\n",
    "\n",
    "# Print the results\n",
    "print(f\"Outstanding Shares for: {outstanding_shares:,.0f}\")\n",
    "print(f\"Total Debt: {total_debt:,.0f}\")\n",
    "print(f\"Cash and Cash Equivalents: {cash_and_equivalents:,.0f}\")\n",
    "print(f\"Net Debt: {net_debt:,.0f}\")\n",
    "print(f\"Equity Value: {enterprise_value - net_debt:,.0f}\")"
   ]
  },
  {
   "cell_type": "code",
   "execution_count": 585,
   "id": "104b971b-983a-4550-b6b0-f66ac61a448c",
   "metadata": {},
   "outputs": [
    {
     "name": "stdout",
     "output_type": "stream",
     "text": [
      "Fair Stock Price: 153.8617229871957\n",
      "Current Stock Price: 139.335\n"
     ]
    }
   ],
   "source": [
    "# Calculate Fair Stock Price\n",
    "fair_stock_price = (enterprise_value - net_debt) / outstanding_shares\n",
    "\n",
    "current_stock_price = ticker.info.get('currentPrice')\n",
    "\n",
    "# Output the Fair Stock Price\n",
    "print(f\"Fair Stock Price: {fair_stock_price}\")\n",
    "print(f\"Current Stock Price: {current_stock_price}\")"
   ]
  },
  {
   "cell_type": "code",
   "execution_count": 586,
   "id": "30e20765-cd28-49c8-9cac-7cc262d1c2a2",
   "metadata": {},
   "outputs": [
    {
     "name": "stdout",
     "output_type": "stream",
     "text": [
      "Fair stock price is significantly higher than the current price. Consider buying.\n"
     ]
    }
   ],
   "source": [
    "# Define a percentage threshold for significant difference\n",
    "threshold_percentage = 0.10  # 10% difference\n",
    "\n",
    "# Calculate the percentage difference\n",
    "percentage_difference = (fair_stock_price - current_stock_price) / current_stock_price\n",
    "\n",
    "# Logic to evaluate the prices\n",
    "if percentage_difference > threshold_percentage:\n",
    "    print(\"Fair stock price is significantly higher than the current price. Consider buying.\")\n",
    "elif percentage_difference < -threshold_percentage:\n",
    "    print(\"Fair stock price is significantly lower than the current price. Consider selling.\")\n",
    "else:\n",
    "    print(\"Current stock price is close to fair stock price. Hold.\")"
   ]
  }
 ],
 "metadata": {
  "kernelspec": {
   "display_name": "Python 3 (ipykernel)",
   "language": "python",
   "name": "python3"
  },
  "language_info": {
   "codemirror_mode": {
    "name": "ipython",
    "version": 3
   },
   "file_extension": ".py",
   "mimetype": "text/x-python",
   "name": "python",
   "nbconvert_exporter": "python",
   "pygments_lexer": "ipython3",
   "version": "3.11.5"
  }
 },
 "nbformat": 4,
 "nbformat_minor": 5
}
